{
 "cells": [
  {
   "cell_type": "code",
   "execution_count": 42,
   "metadata": {
    "jupyter": {
     "source_hidden": true
    }
   },
   "outputs": [],
   "source": [
    "import account_templates as at\n",
    "import altair as alt\n",
    "import pandas as pd\n",
    "import refunc as rf\n",
    "import numpy as np\n",
    "import os\n",
    "import pickle\n",
    "import rebalance_account as ra\n",
    "import rebalance_portfolio as rp\n",
    "import scenarios as sc\n",
    "import xarray as xr\n",
    "\n",
    "idx = pd.IndexSlice\n",
    "alt.data_transformers.enable(\"json\")\n",
    "pd.set_option(\"display.max_columns\", 100)"
   ]
  },
  {
   "cell_type": "code",
   "execution_count": 43,
   "metadata": {
    "jupyter": {
     "source_hidden": true
    }
   },
   "outputs": [
    {
     "name": "stdout",
     "output_type": "stream",
     "text": [
      "Set up Altair plot data directory\n"
     ]
    },
    {
     "data": {
      "text/plain": [
       "DataTransformerRegistry.enable('json_dir')"
      ]
     },
     "execution_count": 43,
     "metadata": {},
     "output_type": "execute_result"
    }
   ],
   "source": [
    "# Set up directory for saving chart data\n",
    "print(\"Set up Altair plot data directory\")\n",
    "\n",
    "\n",
    "def json_dir(data, data_dir=\"altair_data\"):\n",
    "    os.makedirs(data_dir, exist_ok=True)\n",
    "    return alt.pipe(\n",
    "        data, alt.to_json(filename=data_dir + \"/{prefix}-{hash}.{extension}\")\n",
    "    )\n",
    "\n",
    "\n",
    "alt.data_transformers.register(\"json_dir\", json_dir)\n",
    "alt.data_transformers.enable(\"json_dir\", data_dir=\"altair_data\")"
   ]
  },
  {
   "cell_type": "code",
   "execution_count": 44,
   "metadata": {
    "jupyter": {
     "source_hidden": true
    }
   },
   "outputs": [
    {
     "name": "stdout",
     "output_type": "stream",
     "text": [
      "Software versions.\n",
      "Altair:  2.4.1\n",
      "JupyterLab : 0.35.3\n",
      "Numpy:  1.15.4\n",
      "Pandas:  0.23.4\n",
      "Xarray:  0.11.3\n"
     ]
    }
   ],
   "source": [
    "print(\"Software versions.\")\n",
    "print(\"Altair: \", alt.__version__)\n",
    "print(\"JupyterLab : 0.35.3\")\n",
    "print(\"Numpy: \", np.__version__)\n",
    "print(\"Pandas: \", pd.__version__)\n",
    "print(\"Xarray: \", xr.__version__)"
   ]
  },
  {
   "cell_type": "code",
   "execution_count": 45,
   "metadata": {
    "jupyter": {
     "source_hidden": true
    }
   },
   "outputs": [],
   "source": [
    "# Converting scenario dicts to DataFrames\n",
    "\n",
    "# The code below will collect the dictionaries saves as part of the scenario process for either accounts or portfolios \n",
    "# and combine them and convert them to DataFrames.\n",
    "\n",
    "# # used to iterate through the dictionary files and put into one dict, then dataframe.\n",
    "# from os import walk\n",
    "# directory = \"./scenario_data/data_port/\"\n",
    "\n",
    "# f = []\n",
    "# for (dirpath, dirnames, filenames) in walk(directory):\n",
    "#     f.extend(filenames)\n",
    "#     break\n",
    "\n",
    "# data_dict = {}\n",
    "# for x in f: \n",
    "#     dict1 = {}\n",
    "#     filename = directory + x\n",
    "#     infile = open(filename, \"rb\")\n",
    "#     dict1 = pickle.load(infile)\n",
    "#     infile.close()\n",
    "#     data_dict.update(dict1)\n",
    "\n",
    "# df = pd.DataFrame.from_dict(data_dict).T\n",
    "\n",
    "# # (du, sd, ac, rb, dr, tx, mf, at, rr)\n",
    "# df.index.names = [\n",
    "#     \"accounts_list\",\n",
    "#     \"start_date\",\n",
    "#     \"duration\", \n",
    "#     \"rebalance_period\",\n",
    "#     \"asset_mix\",\n",
    "#     \"rebalance_range\",\n",
    "# ]\n",
    "\n",
    "# df.columns.names = [\"account_portfolio\", \"ratios\"]\n",
    "\n",
    "# # pickle the dataframe for use in other analysis\n",
    "# with open(\"./scenario_data/portfolios.pickle\", \"wb\") as f:\n",
    "#     pickle.dump(df, f)"
   ]
  },
  {
   "cell_type": "code",
   "execution_count": 46,
   "metadata": {
    "jupyter": {
     "source_hidden": true
    }
   },
   "outputs": [],
   "source": [
    "# Open scenarios\n",
    "\n",
    "# The following will generate dataframes from pickle files for the accounts and portfolio scenarios.\n",
    "# Open the stored account and portfolio dataframes.\n",
    "\n",
    "filename_acct = 'scenario_data/accounts.pickle'\n",
    "infile = open(filename_acct, \"rb\")\n",
    "dfa = pickle.load(infile)\n",
    "infile.close()\n",
    "\n",
    "filename_port = 'scenario_data/portfolios.pickle'\n",
    "infile = open(filename_port, \"rb\")\n",
    "dfp = pickle.load(infile)\n",
    "infile.close()\n",
    "\n",
    "filename_port_final = 'scenario_data/portfolios_final.pickle'\n",
    "infile = open(filename_port_final, \"rb\")\n",
    "dff = pickle.load(infile)\n",
    "infile.close()\n",
    "\n",
    "filename_port_final_three = 'scenario_data/portfolios_final_three.pickle'\n",
    "infile = open(filename_port_final_three, \"rb\")\n",
    "dft = pickle.load(infile)\n",
    "infile.close()\n",
    "\n",
    "filename_port_aa= \"scenario_data/port_aa.pickle\"\n",
    "infile = open(filename_port_aa, \"rb\")\n",
    "dfl = pickle.load(infile)\n",
    "infile.close()\n"
   ]
  },
  {
   "cell_type": "markdown",
   "metadata": {},
   "source": [
    "# Executive Summary\n",
    "\n",
    "There are a number of standard mechanisms by which a passive investor can influence their returns. These include: \n",
    "\n",
    "- dividend reinvestment plans\n",
    "- sweeping cash to no load index funds until rebalancing occurs\n",
    "- tax efficient portfolio level/multi-account rebalancing\n",
    "- adjusting the range around a target allocation\n",
    "- increasing or decreasing the periodicity of rebalancing (e.g. annual, quarterly...)\n",
    "- increasing the minimum trade dollar to reduce excessive trading\n",
    "\n",
    "This analysis looked at the after-tax returns of basic Canadian fixed income and equity accounts and portfolios from 2002 - 2018. This analysis found that most of the above mechanisms do not offer increased yields over the time measured. \n",
    "\n",
    "However, it was determined that by managing the asset allocation process so that equities are favoured in taxable accounts as well as the lower income partner or spouse when available, that almost 25 bps of extra yield could be achieved over doing nothing and up to 50 bps over the poorest performing allocation. \n",
    "\n",
    "Given that passive investors typically under perform the market by the expense ratio of the exchange traded fund, this strategy could help to put the investor on par with the market itself. \n",
    "\n",
    "The software built for this analysis can only review two funds at a time. Further research could be done on multi-asset portfolios to determine if allocating equities to lower tax individuals and taxable accounts will still pick up yield over allocating by individual accounts.\n",
    "\n"
   ]
  },
  {
   "cell_type": "markdown",
   "metadata": {},
   "source": [
    "# Purpose\n",
    "\n",
    "Most efforts in retail investment management revolve around generating and implementing strategies that will increase returns  and reduce risk. Passive investment strategies, of which I am a proponent, seek to give investors market returns less costs, which are kept to a minimum. Within a passive investment framework, there are some simple strategies that are used to try to increase returns that require no great investment skill. These include: \n",
    "\n",
    "- dividend reinvestment plans\n",
    "- sweeping cash to no load index funds until rebalancing occurs\n",
    "- tax efficient portfolio level/multi-account rebalancing\n",
    "- adjusting the range around a target allocation\n",
    "- increasing or decreasing the periodicity of rebalancing (e.g. annual, quarterly...)\n",
    "- increasing the minimum trade dollar to reduce excessive trading\n",
    "- minimizing trade fees\n",
    "\n",
    "To see the actual effects of some of these strategies, I developed this program that would look at the performance in the real world. "
   ]
  },
  {
   "cell_type": "markdown",
   "metadata": {},
   "source": [
    "# Method\n",
    "\n",
    "This analysis will re-create investment accounts and portfolios of accounts (portfolios) using cash, fixed income, and equity for asset classes. This analysis will be from a Canadian view point. Investment accounts will be recreated using the parameters mentioned above and a calculation will be made for after-tax, after-cost performance.  \n",
    "\n",
    "### Securities\n",
    "\n",
    "For the purposes of this analysis, and to keep the programming realistic, the portfolio consists of two Canadian exchange trade funds to represent fixed income and equity securities. Cash was a non-interest bearing account. \n",
    "\n",
    "Fixed income was represented by IShares Core Canadian Universe Bond Index ETF, XBB. \n",
    "Equity was represented by iShares S&P/TSX Capped Composite Index ETF, XIC.\n",
    "\n",
    "These are both broadly based market indices with very low MERs, high liquidity, and long track records, back as far as 2002.\n",
    "\n",
    "When sweeping to mutual funds, TD Bond and TD Canadian Equity funds were used for fixed income and equity respectively. \n",
    "\n",
    "Creating more diversified options with greater securities was beyond the scope of this exercise."
   ]
  },
  {
   "cell_type": "markdown",
   "metadata": {},
   "source": [
    "# Financial Functions\n",
    "\n",
    "Standard financial functions were calculated as results for the accounts and portfolio analysis. Quantopian's empyrical library was used. The primary functions discussed are annual return, annual volatility, and sharpe ratio, but other ratios are included for completeness. \n",
    "-  annual_return\n",
    "-  annual_volatility\n",
    "-  cagr\n",
    "-  calmar\n",
    "-  cumm_return\n",
    "-  max_drawdown\n",
    "-  sharpe \n",
    "-  sortino\n",
    "-  tail_ratio\n",
    "\n",
    "An index of these ratios for full explanations is found here: http://quantopian.github.io/empyrical/genindex.html"
   ]
  },
  {
   "cell_type": "markdown",
   "metadata": {},
   "source": [
    "# Account Parameters\n",
    "All accounts are calculated based upon a dictionary of account parameters. Below are two examples of such dictionaries for calculating an investment account in full detail."
   ]
  },
  {
   "cell_type": "code",
   "execution_count": 47,
   "metadata": {},
   "outputs": [],
   "source": [
    "dict_with_notes = {\n",
    "    # Account name, format should reflect nature of account.\n",
    "    \"name\": \"Investment No Drip\",\n",
    "    # One line description of the account\n",
    "    \"description\": \"Investment without a DRIP program\",\n",
    "    # The date range for analysis,\n",
    "    # must be between 2002-01-01 and 2018-12-31.\n",
    "    \"start_date\": \"2001-01-01\",\n",
    "    \"end_date\": \"2011-12-31\",\n",
    "    # All deposits including initial deposit should be stated here.\n",
    "    # List of dates and deposits/withdrawals in dictionary format.\n",
    "    # Negative number for withdrawals. The dates in the template are\n",
    "    # the defaults.\n",
    "    \"dep_with\": {\"2002-01-01\": 100000},\n",
    "    # Transactions subject to tax\n",
    "    # TFSA:          transactions = False,      withdrawals = False\n",
    "    # RRSP:          transaeections = False,      withdrawals = True\n",
    "    # Taxable:       transactions = True,      withdrawals = False\n",
    "    \"taxable_transactions\": True,\n",
    "    # RRSPs have tax on withdrawal, this shown accrued in taxes\n",
    "    \"taxable_withdrawal\": False,\n",
    "    # Marginal tax rates for Ontario at $75,000 income\n",
    "    # for general tax like rsp withdrawal or interest income.\n",
    "    \"tax_rate\": 0.3148,\n",
    "    # Tax rate on Canadian dividends as a percent of tax_rate.\n",
    "    \"tax_div\": 0.0892,\n",
    "    # Inclusion rate tax rate on capital gains realized.\n",
    "    \"tax_gains\": 0.1574,\n",
    "    # Schedule for portfolio rebalancing,\n",
    "    # Alias\tDescription\n",
    "    # D\t    Day\n",
    "    # M\t    Month end\n",
    "    # Q\t    Quarter end\n",
    "    # A\t    Year end\n",
    "    # BA\tBusiness year end\n",
    "    \"rebalance_period\": \"M\",\n",
    "    # Trading Fees\n",
    "    # Trade_fee or slippage defaults to $7.50, 0 if no fee.\n",
    "    \"trade_fee\": 7.50,\n",
    "    # Minimum trade size.\n",
    "    \"minimum_trade_dollar\": 0.00,\n",
    "    # Dividends reinvested with no cost, drip=True\n",
    "    # otherwise to cash for later rebalancing.\n",
    "    \"drip\": True,\n",
    "    # Mutual funds used for cash management, cost reduction.\n",
    "    \"mutual_funds\": False,\n",
    "    # Asset allocations, all values between 0 and 1.\n",
    "    # Target allocations must add up to 1.0.\n",
    "    \"atar_cash\": 0,\n",
    "    \"atar_fixed_income\": 0.5,\n",
    "    \"atar_equity\": 0.5,\n",
    "    # Maximum allocation limits.\n",
    "    \"amax_cash\": 0.025,\n",
    "    \"amax_fixed_income\": 0.55,\n",
    "    \"amax_equity\": 0.55,\n",
    "    # Minimum allocation limits.\n",
    "    \"amin_cash\": -0.005,\n",
    "    \"amin_fixed_income\": 0.45,\n",
    "    \"amin_equity\": 0.45,\n",
    "    # Rebalance from maximum to rmax level.\n",
    "    \"rmax_cash\": 0,\n",
    "    \"rmax_fixed_income\": 0.50,\n",
    "    \"rmax_equity\": 0.50,\n",
    "    # Rebalance from minimum to rmin level.\n",
    "    \"rmin_cash\": 0,\n",
    "    \"rmin_fixed_income\": 0.5,\n",
    "    \"rmin_equity\": 0.5,\n",
    "}\n",
    "\n",
    "# Typically without notes, the dictionary shortens up as follows:\n",
    "\n",
    "inv = {\n",
    "    \"name\": \"Investment Account\",\n",
    "    \"description\": \"Sample taxable investment account.\",\n",
    "    \"start_date\": \"2002-01-01\",\n",
    "    \"end_date\": \"2011-12-31\",\n",
    "    \"dep_with\": {\"2002-01-01\": 100000, \n",
    "                \"2003-01-01\": 100000},\n",
    "    \"taxable_transactions\": True,\n",
    "    \"taxable_withdrawal\": False,\n",
    "    \"tax_rate\": 0.4341,\n",
    "    \"tax_div\": 0.2952,\n",
    "    \"tax_gains\": 0.2170,\n",
    "    \"rebalance_period\": \"M\",\n",
    "    \"trade_fee\": 7.50,\n",
    "    \"minimum_trade_dollar\": 0.0,\n",
    "    \"drip\": False,\n",
    "    \"mutual_funds\": False,\n",
    "    \"atar_cash\": 0,\n",
    "    \"atar_fixed_income\": 0.5,\n",
    "    \"atar_equity\": 0.5,\n",
    "    \"amax_cash\": 0.025,\n",
    "    \"amax_fixed_income\": 0.55,\n",
    "    \"amax_equity\": 0.55,\n",
    "    \"amin_cash\": -0.005,\n",
    "    \"amin_fixed_income\": 0.45,\n",
    "    \"amin_equity\": 0.45,\n",
    "    \"rmax_cash\": 0,\n",
    "    \"rmax_fixed_income\": 0.50,\n",
    "    \"rmax_equity\": 0.50,\n",
    "    \"rmin_cash\": 0,\n",
    "    \"rmin_fixed_income\": 0.5,\n",
    "    \"rmin_equity\": 0.5,\n",
    "}"
   ]
  },
  {
   "cell_type": "markdown",
   "metadata": {},
   "source": [
    "# Accounts\n",
    "\n",
    "The foundation of the analysis is the account dataframe. By calling the rebalance_account function in the rebalance_account module (ra), using the above dictionary parameter format, the rebalance_account function calculates the return of the portfolio and generates a full accounting of the account over the specified time frame. \n",
    "\n",
    "The key point of making a custom account calculation is to be able to determine the after-tax, after-costs performance over a wide range of input parameters. This can be found in the value_after_tax columns, which is then turned into percent returns (pct_change), which are in turn used to generate the financial rations for analysis.\n",
    "\n",
    "The account function takes into account:\n",
    "\n",
    "- multiple deposits and withdrawals\n",
    "- dividends and drips\n",
    "- purchases and sales\n",
    "- target allocations and rebalance limits\n",
    "- market value of securities, total value including cash, after tax value of the portfolio\n",
    "- accrued tax in the unrealized value of the securities or unsold rrsps\n",
    "- taxes for dividends, gains, and total realized taxes\n",
    "- transactional costs\n",
    "- current allocations in percent and dollars\n",
    "- security level accounting, including: \n",
    "    - net asset value per share\n",
    "    - units/shares traded\n",
    "    - total units/shares\n",
    "    - market value\n",
    "    - dividends\n",
    "    - adjusted cost base\n",
    "    - asset class and fund type\n",
    "\n",
    "    \n",
    "    \n",
    "\n",
    "\n",
    "Below is an example of a regular account dataframe. This is for the investment account above, 'Investment Account', or 'inv'. \n",
    "\n",
    "Included at the far right of the dataframe are daily return columns. In comparing percent change vs. logarithmic calculations, there was insufficient difference to effect the conclusions. Therefore, percent change (pct_change) is used throughout the analysis."
   ]
  },
  {
   "cell_type": "code",
   "execution_count": 48,
   "metadata": {
    "jupyter": {
     "source_hidden": true
    }
   },
   "outputs": [
    {
     "data": {
      "text/html": [
       "<div>\n",
       "<style scoped>\n",
       "    .dataframe tbody tr th:only-of-type {\n",
       "        vertical-align: middle;\n",
       "    }\n",
       "\n",
       "    .dataframe tbody tr th {\n",
       "        vertical-align: top;\n",
       "    }\n",
       "\n",
       "    .dataframe thead th {\n",
       "        text-align: right;\n",
       "    }\n",
       "</style>\n",
       "<table border=\"1\" class=\"dataframe\">\n",
       "  <thead>\n",
       "    <tr style=\"text-align: right;\">\n",
       "      <th></th>\n",
       "      <th>cash</th>\n",
       "      <th>dep_with</th>\n",
       "      <th>dividends</th>\n",
       "      <th>purchases</th>\n",
       "      <th>sales</th>\n",
       "      <th>market_value</th>\n",
       "      <th>total_value</th>\n",
       "      <th>total_value_norm</th>\n",
       "      <th>tax_accrued</th>\n",
       "      <th>tax_dividend</th>\n",
       "      <th>tax_gain</th>\n",
       "      <th>tax_realized</th>\n",
       "      <th>tax_total</th>\n",
       "      <th>value_after_tax</th>\n",
       "      <th>value_after_tax_norm</th>\n",
       "      <th>costs</th>\n",
       "      <th>rebalanced</th>\n",
       "      <th>cash_allocation</th>\n",
       "      <th>fixed_income_allocation</th>\n",
       "      <th>equity_allocation</th>\n",
       "      <th>cash_total</th>\n",
       "      <th>fixed_income_total</th>\n",
       "      <th>equity_total</th>\n",
       "      <th>XBB-nav_per_share</th>\n",
       "      <th>XBB-unit_traded</th>\n",
       "      <th>XBB-unit</th>\n",
       "      <th>XBB-value</th>\n",
       "      <th>XBB-dividends</th>\n",
       "      <th>XBB-acb</th>\n",
       "      <th>XBB-asset_class</th>\n",
       "      <th>XBB-fund_type</th>\n",
       "      <th>XIC-nav_per_share</th>\n",
       "      <th>XIC-unit_traded</th>\n",
       "      <th>XIC-unit</th>\n",
       "      <th>XIC-value</th>\n",
       "      <th>XIC-dividends</th>\n",
       "      <th>XIC-acb</th>\n",
       "      <th>XIC-asset_class</th>\n",
       "      <th>XIC-fund_type</th>\n",
       "      <th>TD_Bond-nav_per_share</th>\n",
       "      <th>TD_Bond-unit_traded</th>\n",
       "      <th>TD_Bond-unit</th>\n",
       "      <th>TD_Bond-value</th>\n",
       "      <th>TD_Bond-dividends</th>\n",
       "      <th>TD_Bond-acb</th>\n",
       "      <th>TD_Bond-asset_class</th>\n",
       "      <th>TD_Bond-fund_type</th>\n",
       "      <th>TD_CDN_Equity-nav_per_share</th>\n",
       "      <th>TD_CDN_Equity-unit_traded</th>\n",
       "      <th>TD_CDN_Equity-unit</th>\n",
       "      <th>TD_CDN_Equity-value</th>\n",
       "      <th>TD_CDN_Equity-dividends</th>\n",
       "      <th>TD_CDN_Equity-acb</th>\n",
       "      <th>TD_CDN_Equity-asset_class</th>\n",
       "      <th>TD_CDN_Equity-fund_type</th>\n",
       "      <th>pct_change</th>\n",
       "      <th>log_ret</th>\n",
       "    </tr>\n",
       "    <tr>\n",
       "      <th>trade_date</th>\n",
       "      <th></th>\n",
       "      <th></th>\n",
       "      <th></th>\n",
       "      <th></th>\n",
       "      <th></th>\n",
       "      <th></th>\n",
       "      <th></th>\n",
       "      <th></th>\n",
       "      <th></th>\n",
       "      <th></th>\n",
       "      <th></th>\n",
       "      <th></th>\n",
       "      <th></th>\n",
       "      <th></th>\n",
       "      <th></th>\n",
       "      <th></th>\n",
       "      <th></th>\n",
       "      <th></th>\n",
       "      <th></th>\n",
       "      <th></th>\n",
       "      <th></th>\n",
       "      <th></th>\n",
       "      <th></th>\n",
       "      <th></th>\n",
       "      <th></th>\n",
       "      <th></th>\n",
       "      <th></th>\n",
       "      <th></th>\n",
       "      <th></th>\n",
       "      <th></th>\n",
       "      <th></th>\n",
       "      <th></th>\n",
       "      <th></th>\n",
       "      <th></th>\n",
       "      <th></th>\n",
       "      <th></th>\n",
       "      <th></th>\n",
       "      <th></th>\n",
       "      <th></th>\n",
       "      <th></th>\n",
       "      <th></th>\n",
       "      <th></th>\n",
       "      <th></th>\n",
       "      <th></th>\n",
       "      <th></th>\n",
       "      <th></th>\n",
       "      <th></th>\n",
       "      <th></th>\n",
       "      <th></th>\n",
       "      <th></th>\n",
       "      <th></th>\n",
       "      <th></th>\n",
       "      <th></th>\n",
       "      <th></th>\n",
       "      <th></th>\n",
       "      <th></th>\n",
       "      <th></th>\n",
       "    </tr>\n",
       "  </thead>\n",
       "  <tbody>\n",
       "    <tr>\n",
       "      <th>2011-12-22</th>\n",
       "      <td>622.309663</td>\n",
       "      <td>0</td>\n",
       "      <td>0.000000</td>\n",
       "      <td>0.0</td>\n",
       "      <td>0.0</td>\n",
       "      <td>366292.718267</td>\n",
       "      <td>366915.027930</td>\n",
       "      <td>3.669701</td>\n",
       "      <td>17618.219099</td>\n",
       "      <td>0.000000</td>\n",
       "      <td>0.0</td>\n",
       "      <td>47057.305758</td>\n",
       "      <td>64675.524857</td>\n",
       "      <td>302239.503073</td>\n",
       "      <td>3.022750</td>\n",
       "      <td>187.5</td>\n",
       "      <td>False</td>\n",
       "      <td>0.001696</td>\n",
       "      <td>0.510767</td>\n",
       "      <td>0.487537</td>\n",
       "      <td>622.309663</td>\n",
       "      <td>187407.916120</td>\n",
       "      <td>178884.802147</td>\n",
       "      <td>31.420373</td>\n",
       "      <td>0.0</td>\n",
       "      <td>5964.535052</td>\n",
       "      <td>187407.916120</td>\n",
       "      <td>0.00000</td>\n",
       "      <td>27.822402</td>\n",
       "      <td>Canadian</td>\n",
       "      <td>ETF</td>\n",
       "      <td>18.694163</td>\n",
       "      <td>0.0</td>\n",
       "      <td>9569.019065</td>\n",
       "      <td>178884.802147</td>\n",
       "      <td>0.00000</td>\n",
       "      <td>12.452173</td>\n",
       "      <td>Canadian</td>\n",
       "      <td>ETF</td>\n",
       "      <td>11.65</td>\n",
       "      <td>0.0</td>\n",
       "      <td>0.0</td>\n",
       "      <td>0.0</td>\n",
       "      <td>0.0</td>\n",
       "      <td>0</td>\n",
       "      <td>Canadian</td>\n",
       "      <td>Mutual Fund</td>\n",
       "      <td>18.96</td>\n",
       "      <td>0.0</td>\n",
       "      <td>0.0</td>\n",
       "      <td>0.0</td>\n",
       "      <td>0.0</td>\n",
       "      <td>0</td>\n",
       "      <td>Canadian</td>\n",
       "      <td>Mutual Fund</td>\n",
       "      <td>0.005022</td>\n",
       "      <td>0.005009</td>\n",
       "    </tr>\n",
       "    <tr>\n",
       "      <th>2011-12-23</th>\n",
       "      <td>1595.549110</td>\n",
       "      <td>0</td>\n",
       "      <td>1483.832971</td>\n",
       "      <td>0.0</td>\n",
       "      <td>0.0</td>\n",
       "      <td>366406.249091</td>\n",
       "      <td>368001.798201</td>\n",
       "      <td>3.680570</td>\n",
       "      <td>17642.855288</td>\n",
       "      <td>510.593523</td>\n",
       "      <td>0.0</td>\n",
       "      <td>47567.899281</td>\n",
       "      <td>65210.754569</td>\n",
       "      <td>302791.043632</td>\n",
       "      <td>3.028266</td>\n",
       "      <td>187.5</td>\n",
       "      <td>False</td>\n",
       "      <td>0.004336</td>\n",
       "      <td>0.507477</td>\n",
       "      <td>0.488187</td>\n",
       "      <td>1595.549110</td>\n",
       "      <td>186752.461434</td>\n",
       "      <td>179653.787657</td>\n",
       "      <td>31.310481</td>\n",
       "      <td>0.0</td>\n",
       "      <td>5964.535052</td>\n",
       "      <td>186752.461434</td>\n",
       "      <td>0.08759</td>\n",
       "      <td>27.822402</td>\n",
       "      <td>Canadian</td>\n",
       "      <td>ETF</td>\n",
       "      <td>18.774525</td>\n",
       "      <td>0.0</td>\n",
       "      <td>9569.019065</td>\n",
       "      <td>179653.787657</td>\n",
       "      <td>0.10047</td>\n",
       "      <td>12.452173</td>\n",
       "      <td>Canadian</td>\n",
       "      <td>ETF</td>\n",
       "      <td>11.61</td>\n",
       "      <td>0.0</td>\n",
       "      <td>0.0</td>\n",
       "      <td>0.0</td>\n",
       "      <td>0.0</td>\n",
       "      <td>0</td>\n",
       "      <td>Canadian</td>\n",
       "      <td>Mutual Fund</td>\n",
       "      <td>19.05</td>\n",
       "      <td>0.0</td>\n",
       "      <td>0.0</td>\n",
       "      <td>0.0</td>\n",
       "      <td>0.0</td>\n",
       "      <td>0</td>\n",
       "      <td>Canadian</td>\n",
       "      <td>Mutual Fund</td>\n",
       "      <td>0.001825</td>\n",
       "      <td>0.001823</td>\n",
       "    </tr>\n",
       "    <tr>\n",
       "      <th>2011-12-28</th>\n",
       "      <td>1595.549110</td>\n",
       "      <td>0</td>\n",
       "      <td>0.000000</td>\n",
       "      <td>0.0</td>\n",
       "      <td>0.0</td>\n",
       "      <td>364188.095849</td>\n",
       "      <td>365783.644960</td>\n",
       "      <td>3.658385</td>\n",
       "      <td>17161.516035</td>\n",
       "      <td>0.000000</td>\n",
       "      <td>0.0</td>\n",
       "      <td>47567.899281</td>\n",
       "      <td>64729.415316</td>\n",
       "      <td>301054.229644</td>\n",
       "      <td>3.010896</td>\n",
       "      <td>187.5</td>\n",
       "      <td>False</td>\n",
       "      <td>0.004362</td>\n",
       "      <td>0.512155</td>\n",
       "      <td>0.483483</td>\n",
       "      <td>1595.549110</td>\n",
       "      <td>187338.059485</td>\n",
       "      <td>176850.036364</td>\n",
       "      <td>31.408661</td>\n",
       "      <td>0.0</td>\n",
       "      <td>5964.535052</td>\n",
       "      <td>187338.059485</td>\n",
       "      <td>0.00000</td>\n",
       "      <td>27.822402</td>\n",
       "      <td>Canadian</td>\n",
       "      <td>ETF</td>\n",
       "      <td>18.481522</td>\n",
       "      <td>0.0</td>\n",
       "      <td>9569.019065</td>\n",
       "      <td>176850.036364</td>\n",
       "      <td>0.00000</td>\n",
       "      <td>12.452173</td>\n",
       "      <td>Canadian</td>\n",
       "      <td>ETF</td>\n",
       "      <td>11.65</td>\n",
       "      <td>0.0</td>\n",
       "      <td>0.0</td>\n",
       "      <td>0.0</td>\n",
       "      <td>0.0</td>\n",
       "      <td>0</td>\n",
       "      <td>Canadian</td>\n",
       "      <td>Mutual Fund</td>\n",
       "      <td>18.75</td>\n",
       "      <td>0.0</td>\n",
       "      <td>0.0</td>\n",
       "      <td>0.0</td>\n",
       "      <td>0.0</td>\n",
       "      <td>0</td>\n",
       "      <td>Canadian</td>\n",
       "      <td>Mutual Fund</td>\n",
       "      <td>-0.005736</td>\n",
       "      <td>-0.005753</td>\n",
       "    </tr>\n",
       "    <tr>\n",
       "      <th>2011-12-29</th>\n",
       "      <td>1595.549110</td>\n",
       "      <td>0</td>\n",
       "      <td>0.000000</td>\n",
       "      <td>0.0</td>\n",
       "      <td>0.0</td>\n",
       "      <td>366015.391898</td>\n",
       "      <td>367610.941009</td>\n",
       "      <td>3.676661</td>\n",
       "      <td>17558.039277</td>\n",
       "      <td>0.000000</td>\n",
       "      <td>0.0</td>\n",
       "      <td>47567.899281</td>\n",
       "      <td>65125.938559</td>\n",
       "      <td>302485.002450</td>\n",
       "      <td>3.025205</td>\n",
       "      <td>187.5</td>\n",
       "      <td>False</td>\n",
       "      <td>0.004340</td>\n",
       "      <td>0.509762</td>\n",
       "      <td>0.485898</td>\n",
       "      <td>1595.549110</td>\n",
       "      <td>187393.977001</td>\n",
       "      <td>178621.414897</td>\n",
       "      <td>31.418036</td>\n",
       "      <td>0.0</td>\n",
       "      <td>5964.535052</td>\n",
       "      <td>187393.977001</td>\n",
       "      <td>0.00000</td>\n",
       "      <td>27.822402</td>\n",
       "      <td>Canadian</td>\n",
       "      <td>ETF</td>\n",
       "      <td>18.666638</td>\n",
       "      <td>0.0</td>\n",
       "      <td>9569.019065</td>\n",
       "      <td>178621.414897</td>\n",
       "      <td>0.00000</td>\n",
       "      <td>12.452173</td>\n",
       "      <td>Canadian</td>\n",
       "      <td>ETF</td>\n",
       "      <td>11.65</td>\n",
       "      <td>0.0</td>\n",
       "      <td>0.0</td>\n",
       "      <td>0.0</td>\n",
       "      <td>0.0</td>\n",
       "      <td>0</td>\n",
       "      <td>Canadian</td>\n",
       "      <td>Mutual Fund</td>\n",
       "      <td>18.94</td>\n",
       "      <td>0.0</td>\n",
       "      <td>0.0</td>\n",
       "      <td>0.0</td>\n",
       "      <td>0.0</td>\n",
       "      <td>0</td>\n",
       "      <td>Canadian</td>\n",
       "      <td>Mutual Fund</td>\n",
       "      <td>0.004753</td>\n",
       "      <td>0.004741</td>\n",
       "    </tr>\n",
       "    <tr>\n",
       "      <th>2011-12-30</th>\n",
       "      <td>1595.549110</td>\n",
       "      <td>0</td>\n",
       "      <td>0.000000</td>\n",
       "      <td>0.0</td>\n",
       "      <td>0.0</td>\n",
       "      <td>367740.340352</td>\n",
       "      <td>369335.889463</td>\n",
       "      <td>3.693913</td>\n",
       "      <td>17932.353092</td>\n",
       "      <td>0.000000</td>\n",
       "      <td>0.0</td>\n",
       "      <td>47567.899281</td>\n",
       "      <td>65500.252373</td>\n",
       "      <td>303835.637090</td>\n",
       "      <td>3.038713</td>\n",
       "      <td>187.5</td>\n",
       "      <td>False</td>\n",
       "      <td>0.004320</td>\n",
       "      <td>0.507443</td>\n",
       "      <td>0.488237</td>\n",
       "      <td>1595.549110</td>\n",
       "      <td>187417.018000</td>\n",
       "      <td>180323.322352</td>\n",
       "      <td>31.421899</td>\n",
       "      <td>0.0</td>\n",
       "      <td>5964.535052</td>\n",
       "      <td>187417.018000</td>\n",
       "      <td>0.00000</td>\n",
       "      <td>27.822402</td>\n",
       "      <td>Canadian</td>\n",
       "      <td>ETF</td>\n",
       "      <td>18.844494</td>\n",
       "      <td>0.0</td>\n",
       "      <td>9569.019065</td>\n",
       "      <td>180323.322352</td>\n",
       "      <td>0.00000</td>\n",
       "      <td>12.452173</td>\n",
       "      <td>Canadian</td>\n",
       "      <td>ETF</td>\n",
       "      <td>11.65</td>\n",
       "      <td>0.0</td>\n",
       "      <td>0.0</td>\n",
       "      <td>0.0</td>\n",
       "      <td>0.0</td>\n",
       "      <td>0</td>\n",
       "      <td>Canadian</td>\n",
       "      <td>Mutual Fund</td>\n",
       "      <td>19.12</td>\n",
       "      <td>0.0</td>\n",
       "      <td>0.0</td>\n",
       "      <td>0.0</td>\n",
       "      <td>0.0</td>\n",
       "      <td>0</td>\n",
       "      <td>Canadian</td>\n",
       "      <td>Mutual Fund</td>\n",
       "      <td>0.004465</td>\n",
       "      <td>0.004455</td>\n",
       "    </tr>\n",
       "  </tbody>\n",
       "</table>\n",
       "</div>"
      ],
      "text/plain": [
       "                   cash  dep_with    dividends  purchases  sales  \\\n",
       "trade_date                                                         \n",
       "2011-12-22   622.309663         0     0.000000        0.0    0.0   \n",
       "2011-12-23  1595.549110         0  1483.832971        0.0    0.0   \n",
       "2011-12-28  1595.549110         0     0.000000        0.0    0.0   \n",
       "2011-12-29  1595.549110         0     0.000000        0.0    0.0   \n",
       "2011-12-30  1595.549110         0     0.000000        0.0    0.0   \n",
       "\n",
       "             market_value    total_value  total_value_norm   tax_accrued  \\\n",
       "trade_date                                                                 \n",
       "2011-12-22  366292.718267  366915.027930          3.669701  17618.219099   \n",
       "2011-12-23  366406.249091  368001.798201          3.680570  17642.855288   \n",
       "2011-12-28  364188.095849  365783.644960          3.658385  17161.516035   \n",
       "2011-12-29  366015.391898  367610.941009          3.676661  17558.039277   \n",
       "2011-12-30  367740.340352  369335.889463          3.693913  17932.353092   \n",
       "\n",
       "            tax_dividend  tax_gain  tax_realized     tax_total  \\\n",
       "trade_date                                                       \n",
       "2011-12-22      0.000000       0.0  47057.305758  64675.524857   \n",
       "2011-12-23    510.593523       0.0  47567.899281  65210.754569   \n",
       "2011-12-28      0.000000       0.0  47567.899281  64729.415316   \n",
       "2011-12-29      0.000000       0.0  47567.899281  65125.938559   \n",
       "2011-12-30      0.000000       0.0  47567.899281  65500.252373   \n",
       "\n",
       "            value_after_tax  value_after_tax_norm  costs  rebalanced  \\\n",
       "trade_date                                                             \n",
       "2011-12-22    302239.503073              3.022750  187.5       False   \n",
       "2011-12-23    302791.043632              3.028266  187.5       False   \n",
       "2011-12-28    301054.229644              3.010896  187.5       False   \n",
       "2011-12-29    302485.002450              3.025205  187.5       False   \n",
       "2011-12-30    303835.637090              3.038713  187.5       False   \n",
       "\n",
       "            cash_allocation  fixed_income_allocation  equity_allocation  \\\n",
       "trade_date                                                                \n",
       "2011-12-22         0.001696                 0.510767           0.487537   \n",
       "2011-12-23         0.004336                 0.507477           0.488187   \n",
       "2011-12-28         0.004362                 0.512155           0.483483   \n",
       "2011-12-29         0.004340                 0.509762           0.485898   \n",
       "2011-12-30         0.004320                 0.507443           0.488237   \n",
       "\n",
       "             cash_total  fixed_income_total   equity_total  XBB-nav_per_share  \\\n",
       "trade_date                                                                      \n",
       "2011-12-22   622.309663       187407.916120  178884.802147          31.420373   \n",
       "2011-12-23  1595.549110       186752.461434  179653.787657          31.310481   \n",
       "2011-12-28  1595.549110       187338.059485  176850.036364          31.408661   \n",
       "2011-12-29  1595.549110       187393.977001  178621.414897          31.418036   \n",
       "2011-12-30  1595.549110       187417.018000  180323.322352          31.421899   \n",
       "\n",
       "            XBB-unit_traded     XBB-unit      XBB-value  XBB-dividends  \\\n",
       "trade_date                                                               \n",
       "2011-12-22              0.0  5964.535052  187407.916120        0.00000   \n",
       "2011-12-23              0.0  5964.535052  186752.461434        0.08759   \n",
       "2011-12-28              0.0  5964.535052  187338.059485        0.00000   \n",
       "2011-12-29              0.0  5964.535052  187393.977001        0.00000   \n",
       "2011-12-30              0.0  5964.535052  187417.018000        0.00000   \n",
       "\n",
       "              XBB-acb XBB-asset_class XBB-fund_type  XIC-nav_per_share  \\\n",
       "trade_date                                                               \n",
       "2011-12-22  27.822402        Canadian           ETF          18.694163   \n",
       "2011-12-23  27.822402        Canadian           ETF          18.774525   \n",
       "2011-12-28  27.822402        Canadian           ETF          18.481522   \n",
       "2011-12-29  27.822402        Canadian           ETF          18.666638   \n",
       "2011-12-30  27.822402        Canadian           ETF          18.844494   \n",
       "\n",
       "            XIC-unit_traded     XIC-unit      XIC-value  XIC-dividends  \\\n",
       "trade_date                                                               \n",
       "2011-12-22              0.0  9569.019065  178884.802147        0.00000   \n",
       "2011-12-23              0.0  9569.019065  179653.787657        0.10047   \n",
       "2011-12-28              0.0  9569.019065  176850.036364        0.00000   \n",
       "2011-12-29              0.0  9569.019065  178621.414897        0.00000   \n",
       "2011-12-30              0.0  9569.019065  180323.322352        0.00000   \n",
       "\n",
       "              XIC-acb XIC-asset_class XIC-fund_type  TD_Bond-nav_per_share  \\\n",
       "trade_date                                                                   \n",
       "2011-12-22  12.452173        Canadian           ETF                  11.65   \n",
       "2011-12-23  12.452173        Canadian           ETF                  11.61   \n",
       "2011-12-28  12.452173        Canadian           ETF                  11.65   \n",
       "2011-12-29  12.452173        Canadian           ETF                  11.65   \n",
       "2011-12-30  12.452173        Canadian           ETF                  11.65   \n",
       "\n",
       "            TD_Bond-unit_traded  TD_Bond-unit  TD_Bond-value  \\\n",
       "trade_date                                                     \n",
       "2011-12-22                  0.0           0.0            0.0   \n",
       "2011-12-23                  0.0           0.0            0.0   \n",
       "2011-12-28                  0.0           0.0            0.0   \n",
       "2011-12-29                  0.0           0.0            0.0   \n",
       "2011-12-30                  0.0           0.0            0.0   \n",
       "\n",
       "            TD_Bond-dividends  TD_Bond-acb TD_Bond-asset_class  \\\n",
       "trade_date                                                       \n",
       "2011-12-22                0.0            0            Canadian   \n",
       "2011-12-23                0.0            0            Canadian   \n",
       "2011-12-28                0.0            0            Canadian   \n",
       "2011-12-29                0.0            0            Canadian   \n",
       "2011-12-30                0.0            0            Canadian   \n",
       "\n",
       "           TD_Bond-fund_type  TD_CDN_Equity-nav_per_share  \\\n",
       "trade_date                                                  \n",
       "2011-12-22       Mutual Fund                        18.96   \n",
       "2011-12-23       Mutual Fund                        19.05   \n",
       "2011-12-28       Mutual Fund                        18.75   \n",
       "2011-12-29       Mutual Fund                        18.94   \n",
       "2011-12-30       Mutual Fund                        19.12   \n",
       "\n",
       "            TD_CDN_Equity-unit_traded  TD_CDN_Equity-unit  \\\n",
       "trade_date                                                  \n",
       "2011-12-22                        0.0                 0.0   \n",
       "2011-12-23                        0.0                 0.0   \n",
       "2011-12-28                        0.0                 0.0   \n",
       "2011-12-29                        0.0                 0.0   \n",
       "2011-12-30                        0.0                 0.0   \n",
       "\n",
       "            TD_CDN_Equity-value  TD_CDN_Equity-dividends  TD_CDN_Equity-acb  \\\n",
       "trade_date                                                                    \n",
       "2011-12-22                  0.0                      0.0                  0   \n",
       "2011-12-23                  0.0                      0.0                  0   \n",
       "2011-12-28                  0.0                      0.0                  0   \n",
       "2011-12-29                  0.0                      0.0                  0   \n",
       "2011-12-30                  0.0                      0.0                  0   \n",
       "\n",
       "           TD_CDN_Equity-asset_class TD_CDN_Equity-fund_type  pct_change  \\\n",
       "trade_date                                                                 \n",
       "2011-12-22                  Canadian             Mutual Fund    0.005022   \n",
       "2011-12-23                  Canadian             Mutual Fund    0.001825   \n",
       "2011-12-28                  Canadian             Mutual Fund   -0.005736   \n",
       "2011-12-29                  Canadian             Mutual Fund    0.004753   \n",
       "2011-12-30                  Canadian             Mutual Fund    0.004465   \n",
       "\n",
       "             log_ret  \n",
       "trade_date            \n",
       "2011-12-22  0.005009  \n",
       "2011-12-23  0.001823  \n",
       "2011-12-28 -0.005753  \n",
       "2011-12-29  0.004741  \n",
       "2011-12-30  0.004455  "
      ]
     },
     "execution_count": 48,
     "metadata": {},
     "output_type": "execute_result"
    }
   ],
   "source": [
    "ra.rebalance_account(inv).tail()"
   ]
  },
  {
   "cell_type": "markdown",
   "metadata": {},
   "source": [
    "Using xarray one can clearly see the dimensions used in creating account dataframes. "
   ]
  },
  {
   "cell_type": "code",
   "execution_count": 49,
   "metadata": {
    "jupyter": {
     "source_hidden": true
    }
   },
   "outputs": [
    {
     "data": {
      "text/plain": [
       "Coordinates:\n",
       "  * duration          (duration) object '10 year' '3 year' '5 year'\n",
       "  * start_date        (start_date) object '2002-01-01' ... '2009-01-01'\n",
       "  * account_type      (account_type) object 'inv' 'rsp' 'tfsa'\n",
       "  * rebalance_period  (rebalance_period) object 'D' 'M' 'Q' 'Y'\n",
       "  * drip              (drip) object False True\n",
       "  * tax_rate          (tax_rate) object 'high' 'low' 'medium'\n",
       "  * mutual_fund       (mutual_fund) object False True\n",
       "  * asset_mix         (asset_mix) object '25/75' '50/50' '75/25'\n",
       "  * rebalance_range   (rebalance_range) object 'broad' 'narrow'"
      ]
     },
     "execution_count": 49,
     "metadata": {},
     "output_type": "execute_result"
    }
   ],
   "source": [
    "dfa.to_xarray().coords"
   ]
  },
  {
   "cell_type": "markdown",
   "metadata": {},
   "source": [
    "# Considerations\n",
    "\n",
    "- All ratios calculated after tax. \n",
    "- RSPs seeded with more money to account for inherent tax obligation. Based on: amount_invested / (1 - personal_tax_rate)"
   ]
  },
  {
   "cell_type": "markdown",
   "metadata": {},
   "source": [
    "# Account Type\n",
    "\n",
    "- Mean result calculated over all start dates, durations, drip, mutual funds, rebalance range, \n",
    "\n",
    "Key findings: \n",
    "\n",
    "- RSPs and TFSAs exhibit much bettter sharpe ratios, mid-.9's compared to .71 for taxable account.\n",
    "- RSPs earning 2.1% more than tax, tfsa earn 3.2% more than taxable.\n",
    "- RSP has best combination of volitility and return , but it's close with TFSA.\n",
    "\n"
   ]
  },
  {
   "cell_type": "code",
   "execution_count": 50,
   "metadata": {
    "jupyter": {
     "source_hidden": true
    }
   },
   "outputs": [
    {
     "data": {
      "text/html": [
       "<div>\n",
       "<style scoped>\n",
       "    .dataframe tbody tr th:only-of-type {\n",
       "        vertical-align: middle;\n",
       "    }\n",
       "\n",
       "    .dataframe tbody tr th {\n",
       "        vertical-align: top;\n",
       "    }\n",
       "\n",
       "    .dataframe thead th {\n",
       "        text-align: right;\n",
       "    }\n",
       "</style>\n",
       "<table border=\"1\" class=\"dataframe\">\n",
       "  <thead>\n",
       "    <tr style=\"text-align: right;\">\n",
       "      <th>ratios</th>\n",
       "      <th>annual_return</th>\n",
       "      <th>annual_volatility</th>\n",
       "      <th>cagr</th>\n",
       "      <th>calmar</th>\n",
       "      <th>cumm_return</th>\n",
       "      <th>max_drawdown</th>\n",
       "      <th>sharpe</th>\n",
       "      <th>sortino</th>\n",
       "      <th>tail_ratio</th>\n",
       "    </tr>\n",
       "    <tr>\n",
       "      <th>account_type</th>\n",
       "      <th></th>\n",
       "      <th></th>\n",
       "      <th></th>\n",
       "      <th></th>\n",
       "      <th></th>\n",
       "      <th></th>\n",
       "      <th></th>\n",
       "      <th></th>\n",
       "      <th></th>\n",
       "    </tr>\n",
       "  </thead>\n",
       "  <tbody>\n",
       "    <tr>\n",
       "      <th>inv</th>\n",
       "      <td>0.080204</td>\n",
       "      <td>0.148778</td>\n",
       "      <td>0.080204</td>\n",
       "      <td>0.666247</td>\n",
       "      <td>1.157314</td>\n",
       "      <td>-0.161924</td>\n",
       "      <td>0.712093</td>\n",
       "      <td>1.850860</td>\n",
       "      <td>0.902376</td>\n",
       "    </tr>\n",
       "    <tr>\n",
       "      <th>rsp</th>\n",
       "      <td>0.101480</td>\n",
       "      <td>0.124926</td>\n",
       "      <td>0.101480</td>\n",
       "      <td>0.849682</td>\n",
       "      <td>1.112554</td>\n",
       "      <td>-0.182360</td>\n",
       "      <td>0.967237</td>\n",
       "      <td>1.866510</td>\n",
       "      <td>0.938844</td>\n",
       "    </tr>\n",
       "    <tr>\n",
       "      <th>tfsa</th>\n",
       "      <td>0.112383</td>\n",
       "      <td>0.158603</td>\n",
       "      <td>0.112383</td>\n",
       "      <td>0.900526</td>\n",
       "      <td>1.579443</td>\n",
       "      <td>-0.182394</td>\n",
       "      <td>0.936296</td>\n",
       "      <td>2.135935</td>\n",
       "      <td>0.938715</td>\n",
       "    </tr>\n",
       "  </tbody>\n",
       "</table>\n",
       "</div>"
      ],
      "text/plain": [
       "ratios        annual_return  annual_volatility      cagr    calmar  \\\n",
       "account_type                                                         \n",
       "inv                0.080204           0.148778  0.080204  0.666247   \n",
       "rsp                0.101480           0.124926  0.101480  0.849682   \n",
       "tfsa               0.112383           0.158603  0.112383  0.900526   \n",
       "\n",
       "ratios        cumm_return  max_drawdown    sharpe   sortino  tail_ratio  \n",
       "account_type                                                             \n",
       "inv              1.157314     -0.161924  0.712093  1.850860    0.902376  \n",
       "rsp              1.112554     -0.182360  0.967237  1.866510    0.938844  \n",
       "tfsa             1.579443     -0.182394  0.936296  2.135935    0.938715  "
      ]
     },
     "execution_count": 50,
     "metadata": {},
     "output_type": "execute_result"
    }
   ],
   "source": [
    "dfa.groupby(['account_type']).mean()"
   ]
  },
  {
   "cell_type": "code",
   "execution_count": 51,
   "metadata": {
    "jupyter": {
     "source_hidden": true
    }
   },
   "outputs": [
    {
     "data": {
      "application/vnd.vegalite.v2+json": {
       "$schema": "https://vega.github.io/schema/vega-lite/v2.6.0.json",
       "config": {
        "view": {
         "height": 300,
         "width": 400
        }
       },
       "vconcat": [
        {
         "data": {
          "format": {
           "type": "json"
          },
          "url": "altair_data/altair-data-f6b880c0c302d8319cf8a8fc01c0eae3.json"
         },
         "encoding": {
          "color": {
           "field": "account_type",
           "title": "account type",
           "type": "nominal"
          },
          "x": {
           "aggregate": "mean",
           "field": "annual_return",
           "title": "annual return",
           "type": "quantitative"
          },
          "y": {
           "field": "account_type",
           "title": "",
           "type": "nominal"
          }
         },
         "mark": "bar",
         "title": "Results by Account Type"
        },
        {
         "data": {
          "format": {
           "type": "json"
          },
          "url": "altair_data/altair-data-f6b880c0c302d8319cf8a8fc01c0eae3.json"
         },
         "encoding": {
          "color": {
           "field": "account_type",
           "type": "nominal"
          },
          "x": {
           "aggregate": "mean",
           "field": "annual_volatility",
           "title": "annual volatility",
           "type": "quantitative"
          },
          "y": {
           "field": "account_type",
           "title": "",
           "type": "nominal"
          }
         },
         "mark": "bar"
        },
        {
         "data": {
          "format": {
           "type": "json"
          },
          "url": "altair_data/altair-data-f6b880c0c302d8319cf8a8fc01c0eae3.json"
         },
         "encoding": {
          "color": {
           "field": "account_type",
           "type": "nominal"
          },
          "x": {
           "aggregate": "mean",
           "field": "sharpe",
           "title": "share",
           "type": "quantitative"
          },
          "y": {
           "field": "account_type",
           "title": "",
           "type": "nominal"
          }
         },
         "mark": "bar"
        }
       ]
      },
      "image/png": "[encoded data removed]",
      "text/plain": [
       "<VegaLite 2 object>\n",
       "\n",
       "If you see this message, it means the renderer has not been properly enabled\n",
       "for the frontend that you are using. For more information, see\n",
       "https://altair-viz.github.io/user_guide/troubleshooting.html\n"
      ]
     },
     "execution_count": 51,
     "metadata": {},
     "output_type": "execute_result"
    }
   ],
   "source": [
    "dfag = dfa.reset_index()\n",
    "at_return = alt.Chart(dfag, title='Results by Account Type').mark_bar().encode(\n",
    "    x=alt.X('mean(annual_return):Q', title='annual return'),\n",
    "    y=alt.Y('account_type:N', title=\"\"), \n",
    "    color=alt.Color('account_type', title='account type')\n",
    ")\n",
    "at_vol = alt.Chart(dfag).mark_bar().encode(\n",
    "    x=alt.X('mean(annual_volatility):Q', title='annual volatility'),\n",
    "    y=alt.Y('account_type:N', title=\"\"), \n",
    "    color='account_type'\n",
    ")\n",
    "at_sharpe = alt.Chart(dfag).mark_bar().encode(\n",
    "    x=alt.X('mean(sharpe):Q', title='share'),\n",
    "    y=alt.Y('account_type:N', title=\"\"), \n",
    "    color='account_type'\n",
    ")\n",
    "at_return & at_vol &  at_sharpe"
   ]
  },
  {
   "cell_type": "markdown",
   "metadata": {},
   "source": [
    "## Dividend Reinvestment Plans\n",
    "\n",
    "DRIPs have been touted as a sensible way to reinvest dividend cash flow so as not to miss out on the market and also to keep trading costs low, since DRIPs do not have a trading commission. Regardless of the outcome, DRIPs do reduce the effort involved in rebalancing. \n",
    "\n",
    "But what does the data say about the effectiveness of DRIPs in this analysis? \n",
    "\n",
    "If DRIPs are averaged over all scenarios, there is very little to separate the results. The results difference is statistically insignificant for both returns and sharpe ratio. Not having a DRIP shows slightly better results but this may be entirely due to the investment periods and the differences between DRIP investing and not using DRIPs do not justify one strategy over the other. "
   ]
  },
  {
   "cell_type": "code",
   "execution_count": 52,
   "metadata": {
    "jupyter": {
     "source_hidden": true
    }
   },
   "outputs": [
    {
     "data": {
      "text/html": [
       "<div>\n",
       "<style scoped>\n",
       "    .dataframe tbody tr th:only-of-type {\n",
       "        vertical-align: middle;\n",
       "    }\n",
       "\n",
       "    .dataframe tbody tr th {\n",
       "        vertical-align: top;\n",
       "    }\n",
       "\n",
       "    .dataframe thead th {\n",
       "        text-align: right;\n",
       "    }\n",
       "</style>\n",
       "<table border=\"1\" class=\"dataframe\">\n",
       "  <thead>\n",
       "    <tr style=\"text-align: right;\">\n",
       "      <th>ratios</th>\n",
       "      <th>annual_return</th>\n",
       "      <th>annual_volatility</th>\n",
       "      <th>cagr</th>\n",
       "      <th>calmar</th>\n",
       "      <th>cumm_return</th>\n",
       "      <th>max_drawdown</th>\n",
       "      <th>sharpe</th>\n",
       "      <th>sortino</th>\n",
       "      <th>tail_ratio</th>\n",
       "    </tr>\n",
       "    <tr>\n",
       "      <th>drip</th>\n",
       "      <th></th>\n",
       "      <th></th>\n",
       "      <th></th>\n",
       "      <th></th>\n",
       "      <th></th>\n",
       "      <th></th>\n",
       "      <th></th>\n",
       "      <th></th>\n",
       "      <th></th>\n",
       "    </tr>\n",
       "  </thead>\n",
       "  <tbody>\n",
       "    <tr>\n",
       "      <th>True</th>\n",
       "      <td>0.097504</td>\n",
       "      <td>0.144549</td>\n",
       "      <td>0.097504</td>\n",
       "      <td>0.796012</td>\n",
       "      <td>1.275934</td>\n",
       "      <td>-0.176745</td>\n",
       "      <td>0.864012</td>\n",
       "      <td>1.931730</td>\n",
       "      <td>0.925956</td>\n",
       "    </tr>\n",
       "    <tr>\n",
       "      <th>False</th>\n",
       "      <td>0.098541</td>\n",
       "      <td>0.143656</td>\n",
       "      <td>0.098541</td>\n",
       "      <td>0.814958</td>\n",
       "      <td>1.290273</td>\n",
       "      <td>-0.174373</td>\n",
       "      <td>0.879738</td>\n",
       "      <td>1.970474</td>\n",
       "      <td>0.927334</td>\n",
       "    </tr>\n",
       "  </tbody>\n",
       "</table>\n",
       "</div>"
      ],
      "text/plain": [
       "ratios  annual_return  annual_volatility      cagr    calmar  cumm_return  \\\n",
       "drip                                                                        \n",
       "True         0.097504           0.144549  0.097504  0.796012     1.275934   \n",
       "False        0.098541           0.143656  0.098541  0.814958     1.290273   \n",
       "\n",
       "ratios  max_drawdown    sharpe   sortino  tail_ratio  \n",
       "drip                                                  \n",
       "True       -0.176745  0.864012  1.931730    0.925956  \n",
       "False      -0.174373  0.879738  1.970474    0.927334  "
      ]
     },
     "execution_count": 52,
     "metadata": {},
     "output_type": "execute_result"
    }
   ],
   "source": [
    "dfa.mean(level=4)"
   ]
  },
  {
   "cell_type": "code",
   "execution_count": 53,
   "metadata": {
    "jupyter": {
     "source_hidden": true
    }
   },
   "outputs": [
    {
     "data": {
      "application/vnd.vegalite.v2+json": {
       "$schema": "https://vega.github.io/schema/vega-lite/v2.6.0.json",
       "config": {
        "view": {
         "height": 300,
         "width": 400
        }
       },
       "data": {
        "format": {
         "type": "json"
        },
        "url": "altair_data/altair-data-f6b880c0c302d8319cf8a8fc01c0eae3.json"
       },
       "encoding": {
        "color": {
         "field": "drip",
         "title": "DRIP",
         "type": "nominal"
        },
        "row": {
         "field": "rebalance_period",
         "title": "rebalance period",
         "type": "nominal"
        },
        "x": {
         "aggregate": "mean",
         "field": "annual_return",
         "title": "annual return",
         "type": "quantitative"
        },
        "y": {
         "field": "drip",
         "title": "DRIP",
         "type": "ordinal"
        }
       },
       "mark": "bar",
       "title": "DRIP by Rebalanceing Period"
      },
      "image/png": "[encoded data removed]",
      "text/plain": [
       "<VegaLite 2 object>\n",
       "\n",
       "If you see this message, it means the renderer has not been properly enabled\n",
       "for the frontend that you are using. For more information, see\n",
       "https://altair-viz.github.io/user_guide/troubleshooting.html\n"
      ]
     },
     "execution_count": 53,
     "metadata": {},
     "output_type": "execute_result"
    }
   ],
   "source": [
    "dr_reb=alt.Chart(dfag, title='DRIP by Rebalanceing Period').mark_bar().encode(\n",
    "    y=alt.Y('drip:O', title='DRIP'),\n",
    "    x=alt.X('mean(annual_return)', title='annual return'),\n",
    "    color=alt.Color('drip', title='DRIP'), \n",
    "    row=alt.Row('rebalance_period', title='rebalance period')\n",
    "    \n",
    ")\n",
    "dr_reb"
   ]
  },
  {
   "cell_type": "code",
   "execution_count": 54,
   "metadata": {
    "jupyter": {
     "source_hidden": true
    }
   },
   "outputs": [
    {
     "data": {
      "application/vnd.vegalite.v2+json": {
       "$schema": "https://vega.github.io/schema/vega-lite/v2.6.0.json",
       "config": {
        "view": {
         "height": 300,
         "width": 400
        }
       },
       "data": {
        "format": {
         "type": "json"
        },
        "url": "altair_data/altair-data-f6b880c0c302d8319cf8a8fc01c0eae3.json"
       },
       "encoding": {
        "color": {
         "field": "drip",
         "title": "DRIP",
         "type": "nominal"
        },
        "row": {
         "field": "tax_rate",
         "title": "tax rate",
         "type": "nominal"
        },
        "x": {
         "aggregate": "mean",
         "field": "annual_return",
         "title": "annual return",
         "type": "quantitative"
        },
        "y": {
         "field": "drip",
         "title": "DRIP",
         "type": "ordinal"
        }
       },
       "mark": "bar",
       "title": "DRIP by Tax Rate"
      },
      "image/png": "[encoded data removed]",
      "text/plain": [
       "<VegaLite 2 object>\n",
       "\n",
       "If you see this message, it means the renderer has not been properly enabled\n",
       "for the frontend that you are using. For more information, see\n",
       "https://altair-viz.github.io/user_guide/troubleshooting.html\n"
      ]
     },
     "execution_count": 54,
     "metadata": {},
     "output_type": "execute_result"
    }
   ],
   "source": [
    "dr_reb=alt.Chart(dfag, title='DRIP by Tax Rate').mark_bar().encode(\n",
    "    y=alt.Y('drip:O', title='DRIP'),\n",
    "    x=alt.X('mean(annual_return):Q', title='annual return'),\n",
    "    color=alt.Color('drip:N', title='DRIP'),\n",
    "    row=alt.Row('tax_rate:N', title='tax rate')\n",
    ")\n",
    "dr_reb"
   ]
  },
  {
   "cell_type": "markdown",
   "metadata": {},
   "source": [
    "Whether measured by tax rate, or rebalancing period, or other dimensions, DRIPs seem to yield no financial advantage. That is not to say they are not convenient and have other practical advantages. Increased returns just does not appear to be one of them. "
   ]
  },
  {
   "cell_type": "markdown",
   "metadata": {},
   "source": [
    "## Sweeping Cash to No Load Index Mutual Funds\n",
    "\n",
    "The idea of this strategy is to invest any funds, be they deposits or dividends, from the cash account into no load, no transaction cost index funds until such time as a rebalancing occurs. Rebalancing could take time to happen due to the limits on the rebalancing or because of the rebalancing period being of long duration. \n",
    "\n",
    "Similar to DRIPs, by investing in no load mutual funds, idle cash is made active. What do the results show?\n",
    "\n",
    "As was the case with DRIPs, all financial indicators are almost equal regardless of whether or not a mutual fund sweep was deployed. No further investigation is required for this strategy."
   ]
  },
  {
   "cell_type": "code",
   "execution_count": 55,
   "metadata": {
    "jupyter": {
     "source_hidden": true
    }
   },
   "outputs": [
    {
     "data": {
      "text/html": [
       "<div>\n",
       "<style scoped>\n",
       "    .dataframe tbody tr th:only-of-type {\n",
       "        vertical-align: middle;\n",
       "    }\n",
       "\n",
       "    .dataframe tbody tr th {\n",
       "        vertical-align: top;\n",
       "    }\n",
       "\n",
       "    .dataframe thead th {\n",
       "        text-align: right;\n",
       "    }\n",
       "</style>\n",
       "<table border=\"1\" class=\"dataframe\">\n",
       "  <thead>\n",
       "    <tr style=\"text-align: right;\">\n",
       "      <th>ratios</th>\n",
       "      <th>annual_return</th>\n",
       "      <th>annual_volatility</th>\n",
       "      <th>cagr</th>\n",
       "      <th>calmar</th>\n",
       "      <th>cumm_return</th>\n",
       "      <th>max_drawdown</th>\n",
       "      <th>sharpe</th>\n",
       "      <th>sortino</th>\n",
       "      <th>tail_ratio</th>\n",
       "    </tr>\n",
       "    <tr>\n",
       "      <th>mutual_fund</th>\n",
       "      <th></th>\n",
       "      <th></th>\n",
       "      <th></th>\n",
       "      <th></th>\n",
       "      <th></th>\n",
       "      <th></th>\n",
       "      <th></th>\n",
       "      <th></th>\n",
       "      <th></th>\n",
       "    </tr>\n",
       "  </thead>\n",
       "  <tbody>\n",
       "    <tr>\n",
       "      <th>True</th>\n",
       "      <td>0.098165</td>\n",
       "      <td>0.144385</td>\n",
       "      <td>0.098165</td>\n",
       "      <td>0.805277</td>\n",
       "      <td>1.284724</td>\n",
       "      <td>-0.176429</td>\n",
       "      <td>0.872588</td>\n",
       "      <td>1.951741</td>\n",
       "      <td>0.926578</td>\n",
       "    </tr>\n",
       "    <tr>\n",
       "      <th>False</th>\n",
       "      <td>0.097879</td>\n",
       "      <td>0.143820</td>\n",
       "      <td>0.097879</td>\n",
       "      <td>0.805694</td>\n",
       "      <td>1.281484</td>\n",
       "      <td>-0.174689</td>\n",
       "      <td>0.871163</td>\n",
       "      <td>1.950463</td>\n",
       "      <td>0.926712</td>\n",
       "    </tr>\n",
       "  </tbody>\n",
       "</table>\n",
       "</div>"
      ],
      "text/plain": [
       "ratios       annual_return  annual_volatility      cagr    calmar  \\\n",
       "mutual_fund                                                         \n",
       "True              0.098165           0.144385  0.098165  0.805277   \n",
       "False             0.097879           0.143820  0.097879  0.805694   \n",
       "\n",
       "ratios       cumm_return  max_drawdown    sharpe   sortino  tail_ratio  \n",
       "mutual_fund                                                             \n",
       "True            1.284724     -0.176429  0.872588  1.951741    0.926578  \n",
       "False           1.281484     -0.174689  0.871163  1.950463    0.926712  "
      ]
     },
     "execution_count": 55,
     "metadata": {},
     "output_type": "execute_result"
    }
   ],
   "source": [
    "dfa.mean(level='mutual_fund')"
   ]
  },
  {
   "cell_type": "markdown",
   "metadata": {},
   "source": [
    "Comparing the returns of using mutual fund sweep strategy or not against broad or narrow rebalancing ranges, since this would effect the amount of cash lying dormant in the account. The results show the bar crossing the 50% mark for both the broad and narrow range, indicating that the mutual fund sweep has almost no effect on the outcome."
   ]
  },
  {
   "cell_type": "code",
   "execution_count": 56,
   "metadata": {
    "jupyter": {
     "source_hidden": true
    }
   },
   "outputs": [
    {
     "data": {
      "application/vnd.vegalite.v2+json": {
       "$schema": "https://vega.github.io/schema/vega-lite/v2.6.0.json",
       "config": {
        "view": {
         "height": 300,
         "width": 400
        }
       },
       "data": {
        "format": {
         "type": "json"
        },
        "url": "altair_data/altair-data-f6b880c0c302d8319cf8a8fc01c0eae3.json"
       },
       "encoding": {
        "color": {
         "field": "mutual_fund",
         "title": "mutual fund",
         "type": "nominal"
        },
        "x": {
         "aggregate": "mean",
         "field": "annual_return",
         "stack": "normalize",
         "title": "annual return",
         "type": "quantitative"
        },
        "y": {
         "field": "rebalance_range",
         "title": "range",
         "type": "nominal"
        }
       },
       "mark": "bar"
      },
      "image/png": "[encoded data removed]",
      "text/plain": [
       "<VegaLite 2 object>\n",
       "\n",
       "If you see this message, it means the renderer has not been properly enabled\n",
       "for the frontend that you are using. For more information, see\n",
       "https://altair-viz.github.io/user_guide/troubleshooting.html\n"
      ]
     },
     "execution_count": 56,
     "metadata": {},
     "output_type": "execute_result"
    }
   ],
   "source": [
    "mf_rr = alt.Chart(dfag).mark_bar().encode(\n",
    "    x = alt.X('mean(annual_return)', type='quantitative', stack='normalize', title='annual return'),\n",
    "    y = alt.Y('rebalance_range:N', title='range'), \n",
    "    color=alt.Color('mutual_fund:N', title='mutual fund'),\n",
    ")\n",
    "mf_rr"
   ]
  },
  {
   "cell_type": "markdown",
   "metadata": {},
   "source": [
    "## Adjusting the Range Around a Target Allocation\n",
    "\n",
    "Rebalancing is typically triggered by a maximum or minimum asset level. Reducing the range will increase the number of trade events but keep the portfolio more in line with the target asset allocation.\n",
    "\n",
    "Allocations for low, med, high risk are shown below. \n",
    "\n",
    "    Format of tuple is (target, narrow_low, narrow_high, wide_low, wide_high)\n",
    "    \n",
    "    low risk:    (0.25, 0.225, 0.275, 0.175, 0.325)\n",
    "    medium risk: (0.50, 0.450, 0.550, 0.350, 0.650)\n",
    "    high risk:   (0.75, 0.672, 0.825, 0.525, 0.975)\n",
    "\n",
    "As with other account level results, the results for narrow and broad rebalancing ranges is almost identical."
   ]
  },
  {
   "cell_type": "code",
   "execution_count": 57,
   "metadata": {
    "jupyter": {
     "source_hidden": true
    }
   },
   "outputs": [
    {
     "data": {
      "text/html": [
       "<div>\n",
       "<style scoped>\n",
       "    .dataframe tbody tr th:only-of-type {\n",
       "        vertical-align: middle;\n",
       "    }\n",
       "\n",
       "    .dataframe tbody tr th {\n",
       "        vertical-align: top;\n",
       "    }\n",
       "\n",
       "    .dataframe thead th {\n",
       "        text-align: right;\n",
       "    }\n",
       "</style>\n",
       "<table border=\"1\" class=\"dataframe\">\n",
       "  <thead>\n",
       "    <tr style=\"text-align: right;\">\n",
       "      <th>ratios</th>\n",
       "      <th>annual_return</th>\n",
       "      <th>annual_volatility</th>\n",
       "      <th>sharpe</th>\n",
       "    </tr>\n",
       "    <tr>\n",
       "      <th>rebalance_range</th>\n",
       "      <th></th>\n",
       "      <th></th>\n",
       "      <th></th>\n",
       "    </tr>\n",
       "  </thead>\n",
       "  <tbody>\n",
       "    <tr>\n",
       "      <th>narrow</th>\n",
       "      <td>0.098326</td>\n",
       "      <td>0.143842</td>\n",
       "      <td>0.879219</td>\n",
       "    </tr>\n",
       "    <tr>\n",
       "      <th>broad</th>\n",
       "      <td>0.097718</td>\n",
       "      <td>0.144363</td>\n",
       "      <td>0.864532</td>\n",
       "    </tr>\n",
       "  </tbody>\n",
       "</table>\n",
       "</div>"
      ],
      "text/plain": [
       "ratios           annual_return  annual_volatility    sharpe\n",
       "rebalance_range                                            \n",
       "narrow                0.098326           0.143842  0.879219\n",
       "broad                 0.097718           0.144363  0.864532"
      ]
     },
     "execution_count": 57,
     "metadata": {},
     "output_type": "execute_result"
    }
   ],
   "source": [
    "dfa[['annual_return', 'annual_volatility', 'sharpe']].mean(level='rebalance_range')"
   ]
  },
  {
   "cell_type": "markdown",
   "metadata": {},
   "source": [
    "Use of a wide or narrow allocation had little consistent impact over a wide range of start dates and other dimensions."
   ]
  },
  {
   "cell_type": "code",
   "execution_count": 58,
   "metadata": {
    "jupyter": {
     "source_hidden": true
    }
   },
   "outputs": [
    {
     "data": {
      "application/vnd.vegalite.v2+json": {
       "$schema": "https://vega.github.io/schema/vega-lite/v2.6.0.json",
       "config": {
        "view": {
         "height": 300,
         "width": 400
        }
       },
       "data": {
        "format": {
         "type": "json"
        },
        "url": "altair_data/altair-data-f6b880c0c302d8319cf8a8fc01c0eae3.json"
       },
       "encoding": {
        "color": {
         "field": "rebalance_range",
         "title": "rebalance range",
         "type": "ordinal"
        },
        "column": {
         "field": "start_date",
         "header": {
          "labelAngle": 35
         },
         "title": "",
         "type": "nominal"
        },
        "x": {
         "field": "rebalance_range",
         "title": "",
         "type": "ordinal"
        },
        "y": {
         "aggregate": "mean",
         "field": "annual_return",
         "title": "annual return",
         "type": "quantitative"
        }
       },
       "mark": "bar"
      },
      "image/png": "[encoded data removed]",
      "text/plain": [
       "<VegaLite 2 object>\n",
       "\n",
       "If you see this message, it means the renderer has not been properly enabled\n",
       "for the frontend that you are using. For more information, see\n",
       "https://altair-viz.github.io/user_guide/troubleshooting.html\n"
      ]
     },
     "execution_count": 58,
     "metadata": {},
     "output_type": "execute_result"
    }
   ],
   "source": [
    "rr_st = alt.Chart(dfag).mark_bar().encode(\n",
    "    x=alt.X('rebalance_range:O', title=\"\"),\n",
    "    y=alt.Y('mean(annual_return):Q', title='annual return'),\n",
    "    column= alt.Column('start_date', \n",
    "                       title=\"\", \n",
    "                      header=alt.Header(labelAngle=35)\n",
    "                      ), \n",
    "    color=alt.Color('rebalance_range:O', \n",
    "                    title='rebalance range'\n",
    "                   ),\n",
    ")\n",
    "\n",
    "rr_st "
   ]
  },
  {
   "cell_type": "markdown",
   "metadata": {},
   "source": [
    "## Increasing or decreasing the periodicity of rebalancing (e.g. annual, quarterly...)"
   ]
  },
  {
   "cell_type": "markdown",
   "metadata": {},
   "source": [
    "Increasing or decreasing the periodicity of rebalancing a single account also had negligible impact on performance and risk ratios."
   ]
  },
  {
   "cell_type": "code",
   "execution_count": 59,
   "metadata": {
    "jupyter": {
     "source_hidden": true
    }
   },
   "outputs": [
    {
     "data": {
      "text/html": [
       "<div>\n",
       "<style scoped>\n",
       "    .dataframe tbody tr th:only-of-type {\n",
       "        vertical-align: middle;\n",
       "    }\n",
       "\n",
       "    .dataframe tbody tr th {\n",
       "        vertical-align: top;\n",
       "    }\n",
       "\n",
       "    .dataframe thead th {\n",
       "        text-align: right;\n",
       "    }\n",
       "</style>\n",
       "<table border=\"1\" class=\"dataframe\">\n",
       "  <thead>\n",
       "    <tr style=\"text-align: right;\">\n",
       "      <th>ratios</th>\n",
       "      <th>annual_return</th>\n",
       "      <th>annual_volatility</th>\n",
       "      <th>sharpe</th>\n",
       "    </tr>\n",
       "    <tr>\n",
       "      <th>rebalance_period</th>\n",
       "      <th></th>\n",
       "      <th></th>\n",
       "      <th></th>\n",
       "    </tr>\n",
       "  </thead>\n",
       "  <tbody>\n",
       "    <tr>\n",
       "      <th>D</th>\n",
       "      <td>0.099045</td>\n",
       "      <td>0.145120</td>\n",
       "      <td>0.874943</td>\n",
       "    </tr>\n",
       "    <tr>\n",
       "      <th>M</th>\n",
       "      <td>0.098556</td>\n",
       "      <td>0.144074</td>\n",
       "      <td>0.873537</td>\n",
       "    </tr>\n",
       "    <tr>\n",
       "      <th>Q</th>\n",
       "      <td>0.098609</td>\n",
       "      <td>0.143566</td>\n",
       "      <td>0.876159</td>\n",
       "    </tr>\n",
       "    <tr>\n",
       "      <th>Y</th>\n",
       "      <td>0.095879</td>\n",
       "      <td>0.143648</td>\n",
       "      <td>0.862861</td>\n",
       "    </tr>\n",
       "  </tbody>\n",
       "</table>\n",
       "</div>"
      ],
      "text/plain": [
       "ratios            annual_return  annual_volatility    sharpe\n",
       "rebalance_period                                            \n",
       "D                      0.099045           0.145120  0.874943\n",
       "M                      0.098556           0.144074  0.873537\n",
       "Q                      0.098609           0.143566  0.876159\n",
       "Y                      0.095879           0.143648  0.862861"
      ]
     },
     "execution_count": 59,
     "metadata": {},
     "output_type": "execute_result"
    }
   ],
   "source": [
    "dfa[['annual_return', 'annual_volatility', 'sharpe']].mean(level=['rebalance_period'])"
   ]
  },
  {
   "cell_type": "code",
   "execution_count": 60,
   "metadata": {
    "jupyter": {
     "source_hidden": true
    }
   },
   "outputs": [
    {
     "data": {
      "application/vnd.vegalite.v2+json": {
       "$schema": "https://vega.github.io/schema/vega-lite/v2.6.0.json",
       "config": {
        "view": {
         "height": 300,
         "width": 400
        }
       },
       "data": {
        "format": {
         "type": "json"
        },
        "url": "altair_data/altair-data-f6b880c0c302d8319cf8a8fc01c0eae3.json"
       },
       "encoding": {
        "color": {
         "field": "rebalance_period",
         "title": "",
         "type": "nominal"
        },
        "column": {
         "field": "asset_mix",
         "title": "rebalance period: FI/EQ",
         "type": "nominal"
        },
        "x": {
         "field": "rebalance_period",
         "title": "",
         "type": "nominal"
        },
        "y": {
         "aggregate": "mean",
         "field": "annual_return",
         "title": "annual return",
         "type": "quantitative"
        }
       },
       "mark": "bar"
      },
      "image/png": "[encoded data removed]",
      "text/plain": [
       "<VegaLite 2 object>\n",
       "\n",
       "If you see this message, it means the renderer has not been properly enabled\n",
       "for the frontend that you are using. For more information, see\n",
       "https://altair-viz.github.io/user_guide/troubleshooting.html\n"
      ]
     },
     "execution_count": 60,
     "metadata": {},
     "output_type": "execute_result"
    }
   ],
   "source": [
    "rp_risk = alt.Chart(dfag).mark_bar().encode(\n",
    "    x = alt.X('rebalance_period:N', title=\"\"),\n",
    "    y = alt.Y('mean(annual_return)', title='annual return'), \n",
    "    color = alt.Color('rebalance_period', title=\"\"), \n",
    "    column = alt.Column('asset_mix', title='rebalance period: FI/EQ')\n",
    ")\n",
    "rp_risk"
   ]
  },
  {
   "cell_type": "markdown",
   "metadata": {},
   "source": [
    "# Account Level Summary\n",
    "\n",
    "In conclusion, there is little to be gained from actively deploying manual strategies to passive portfolios at the account level. \n",
    "\n",
    "Below is a summary of all the effects."
   ]
  },
  {
   "cell_type": "code",
   "execution_count": 61,
   "metadata": {
    "jupyter": {
     "source_hidden": true
    }
   },
   "outputs": [
    {
     "data": {
      "application/vnd.vegalite.v2+json": {
       "$schema": "https://vega.github.io/schema/vega-lite/v2.6.0.json",
       "config": {
        "view": {
         "height": 300,
         "width": 400
        }
       },
       "vconcat": [
        {
         "repeat": {
          "column": [
           "drip",
           "rebalance_range",
           "rebalance_period",
           "mutual_fund",
           "tax_rate"
          ]
         },
         "spec": {
          "data": {
           "format": {
            "type": "json"
           },
           "url": "altair_data/altair-data-f6b880c0c302d8319cf8a8fc01c0eae3.json"
          },
          "encoding": {
           "x": {
            "field": {
             "repeat": "column"
            },
            "type": "nominal"
           },
           "y": {
            "aggregate": "mean",
            "field": "annual_return",
            "title": "annual return",
            "type": "quantitative"
           }
          },
          "height": 250,
          "mark": "bar",
          "selection": {
           "selector004": {
            "bind": "scales",
            "encodings": [
             "x",
             "y"
            ],
            "mark": {
             "fill": "#333",
             "fillOpacity": 0.125,
             "stroke": "white"
            },
            "on": "[mousedown, window:mouseup] > window:mousemove!",
            "resolve": "global",
            "translate": "[mousedown, window:mouseup] > window:mousemove!",
            "type": "interval",
            "zoom": "wheel!"
           }
          },
          "width": 50
         }
        },
        {
         "repeat": {
          "column": [
           "drip",
           "rebalance_range",
           "rebalance_period",
           "mutual_fund",
           "tax_rate"
          ]
         },
         "spec": {
          "data": {
           "format": {
            "type": "json"
           },
           "url": "altair_data/altair-data-f6b880c0c302d8319cf8a8fc01c0eae3.json"
          },
          "encoding": {
           "x": {
            "field": {
             "repeat": "column"
            },
            "type": "nominal"
           },
           "y": {
            "aggregate": "mean",
            "field": "sharpe",
            "title": "sharpe ratio",
            "type": "quantitative"
           }
          },
          "height": 250,
          "mark": "bar",
          "selection": {
           "selector005": {
            "bind": "scales",
            "encodings": [
             "x",
             "y"
            ],
            "mark": {
             "fill": "#333",
             "fillOpacity": 0.125,
             "stroke": "white"
            },
            "on": "[mousedown, window:mouseup] > window:mousemove!",
            "resolve": "global",
            "translate": "[mousedown, window:mouseup] > window:mousemove!",
            "type": "interval",
            "zoom": "wheel!"
           }
          },
          "width": 50
         }
        },
        {
         "repeat": {
          "column": [
           "drip",
           "rebalance_range",
           "rebalance_period",
           "mutual_fund",
           "tax_rate"
          ]
         },
         "spec": {
          "data": {
           "format": {
            "type": "json"
           },
           "url": "altair_data/altair-data-f6b880c0c302d8319cf8a8fc01c0eae3.json"
          },
          "encoding": {
           "x": {
            "field": {
             "repeat": "column"
            },
            "type": "nominal"
           },
           "y": {
            "aggregate": "mean",
            "field": "annual_volatility",
            "title": "annual volatility",
            "type": "quantitative"
           }
          },
          "height": 250,
          "mark": "bar",
          "selection": {
           "selector006": {
            "bind": "scales",
            "encodings": [
             "x",
             "y"
            ],
            "mark": {
             "fill": "#333",
             "fillOpacity": 0.125,
             "stroke": "white"
            },
            "on": "[mousedown, window:mouseup] > window:mousemove!",
            "resolve": "global",
            "translate": "[mousedown, window:mouseup] > window:mousemove!",
            "type": "interval",
            "zoom": "wheel!"
           }
          },
          "width": 50
         }
        }
       ]
      },
      "image/png": "[encoded data removed]",
      "text/plain": [
       "<VegaLite 2 object>\n",
       "\n",
       "If you see this message, it means the renderer has not been properly enabled\n",
       "for the frontend that you are using. For more information, see\n",
       "https://altair-viz.github.io/user_guide/troubleshooting.html\n"
      ]
     },
     "execution_count": 61,
     "metadata": {},
     "output_type": "execute_result"
    }
   ],
   "source": [
    "acct = dfa.reset_index()\n",
    "acct[\n",
    "    [\n",
    "        \"duration\",\n",
    "        \"account_type\",\n",
    "        \"rebalance_period\",\n",
    "        \"tax_rate\",\n",
    "        \"asset_mix\",\n",
    "        \"rebalance_range\",\n",
    "        \"mutual_fund\"\n",
    "    ]\n",
    "] = acct[\n",
    "    [\n",
    "        \"duration\",\n",
    "        \"account_type\",\n",
    "        \"rebalance_period\",\n",
    "        \"tax_rate\",\n",
    "        \"asset_mix\",\n",
    "        \"rebalance_range\",\n",
    "        \"mutual_fund\"\n",
    "    ]\n",
    "].astype(\"category\")\n",
    "\n",
    "chart_return = alt.Chart(acct).mark_bar().encode(\n",
    "    alt.X(alt.repeat('column'), type=\"nominal\"),\n",
    "    alt.Y('mean(annual_return)', type=\"quantitative\", title='annual return'),\n",
    "#     color = 'asset_mix'\n",
    ").properties(\n",
    "    width=50,\n",
    "    height=250, \n",
    ").repeat(\n",
    "    column=['drip', 'rebalance_range', 'rebalance_period', 'mutual_fund', 'tax_rate'], \n",
    ").interactive()\n",
    "\n",
    "chart_sharpe = alt.Chart(acct).mark_bar().encode(\n",
    "    alt.X(alt.repeat('column'), type=\"nominal\"),\n",
    "    alt.Y('mean(sharpe)', type=\"quantitative\", title='sharpe ratio'),\n",
    "#     color = 'asset_mix'\n",
    ").properties(\n",
    "    width=50,\n",
    "    height=250\n",
    ").repeat(\n",
    "    column=['drip', 'rebalance_range', 'rebalance_period', 'mutual_fund', 'tax_rate']\n",
    ").interactive()\n",
    "\n",
    "chart_volatility = alt.Chart(acct).mark_bar().encode(\n",
    "    alt.X(alt.repeat('column'), type=\"nominal\"),\n",
    "    alt.Y('mean(annual_volatility)', type=\"quantitative\", title='annual volatility'),\n",
    "#     color = 'asset_mix'\n",
    ").properties(\n",
    "    width=50,\n",
    "    height=250\n",
    ").repeat(\n",
    "    column=['drip', 'rebalance_range', 'rebalance_period', 'mutual_fund', 'tax_rate']\n",
    ").interactive()\n",
    "chart_return & chart_sharpe & chart_volatility"
   ]
  },
  {
   "cell_type": "markdown",
   "metadata": {},
   "source": [
    "# Tax efficient portfolio rebalancing\n",
    "\n",
    "Account level mechanisms do not yield significant result over the time periods tested. Portfolio level testing was conducted using two people, p1 and p2, each managing $100,000 in after tax funds per account. Each invest had an investment account, a RRSP account, and a TFSA account. \n",
    "\n",
    "p1 is from a high tax bracket and p2 is from a lower tax bracket.\n",
    "\n",
    "        High Tax Rate\n",
    "        $150,000 annual income\n",
    "        tax_rate  = 0.4641\n",
    "        tax_div   = 0.3175\n",
    "        tax_gains = 0.2320\n",
    "        \n",
    "        Low Tax Rate\n",
    "        $50,000 annual income\n",
    "        tax_rate  = 0.2965\n",
    "        tax_div   = 0.0756\n",
    "        tax_gains = 0.1482\n",
    "        \n",
    "The following scenarios were tested: \n",
    "\n",
    "-  accounts list: various orderings of accounts \n",
    "-  start date: various start dates from 2002-01-01 - 2009-01-01\n",
    "-  duration: '3 year', '5 year', '10 year'\n",
    "-  rebalance period: rebalanced by Day, Month, Quarter, Year\n",
    "-  asset mix: fixed income/equity: 75/25, 50/50, 25/75\n",
    "-  rebalance range: rebalance maximums and minimums, range from target, set for 'broad' and 'narrow'\n",
    "\n",
    "Except for the account_list, all test resulted in similar results as in the account level testing, that is to say, no advantage to varying the coordinates in each dimension. "
   ]
  },
  {
   "cell_type": "markdown",
   "metadata": {},
   "source": [
    "### Duration"
   ]
  },
  {
   "cell_type": "code",
   "execution_count": 62,
   "metadata": {
    "jupyter": {
     "source_hidden": true
    }
   },
   "outputs": [
    {
     "data": {
      "text/html": [
       "<div>\n",
       "<style scoped>\n",
       "    .dataframe tbody tr th:only-of-type {\n",
       "        vertical-align: middle;\n",
       "    }\n",
       "\n",
       "    .dataframe tbody tr th {\n",
       "        vertical-align: top;\n",
       "    }\n",
       "\n",
       "    .dataframe thead tr th {\n",
       "        text-align: left;\n",
       "    }\n",
       "\n",
       "    .dataframe thead tr:last-of-type th {\n",
       "        text-align: right;\n",
       "    }\n",
       "</style>\n",
       "<table border=\"1\" class=\"dataframe\">\n",
       "  <thead>\n",
       "    <tr>\n",
       "      <th>ratios</th>\n",
       "      <th colspan=\"2\" halign=\"left\">annual_return</th>\n",
       "      <th colspan=\"2\" halign=\"left\">sharpe</th>\n",
       "    </tr>\n",
       "    <tr>\n",
       "      <th>account_portfolio</th>\n",
       "      <th>return_account</th>\n",
       "      <th>return_portfolio</th>\n",
       "      <th>return_account</th>\n",
       "      <th>return_portfolio</th>\n",
       "    </tr>\n",
       "    <tr>\n",
       "      <th>duration</th>\n",
       "      <th></th>\n",
       "      <th></th>\n",
       "      <th></th>\n",
       "      <th></th>\n",
       "    </tr>\n",
       "  </thead>\n",
       "  <tbody>\n",
       "    <tr>\n",
       "      <th>3 year</th>\n",
       "      <td>0.090748</td>\n",
       "      <td>0.090379</td>\n",
       "      <td>1.167615</td>\n",
       "      <td>1.172576</td>\n",
       "    </tr>\n",
       "    <tr>\n",
       "      <th>5 year</th>\n",
       "      <td>0.069403</td>\n",
       "      <td>0.069181</td>\n",
       "      <td>0.855903</td>\n",
       "      <td>0.859471</td>\n",
       "    </tr>\n",
       "    <tr>\n",
       "      <th>10 year</th>\n",
       "      <td>0.060292</td>\n",
       "      <td>0.060191</td>\n",
       "      <td>0.782892</td>\n",
       "      <td>0.787539</td>\n",
       "    </tr>\n",
       "  </tbody>\n",
       "</table>\n",
       "</div>"
      ],
      "text/plain": [
       "ratios             annual_return                          sharpe  \\\n",
       "account_portfolio return_account return_portfolio return_account   \n",
       "duration                                                           \n",
       "3 year                  0.090748         0.090379       1.167615   \n",
       "5 year                  0.069403         0.069181       0.855903   \n",
       "10 year                 0.060292         0.060191       0.782892   \n",
       "\n",
       "ratios                              \n",
       "account_portfolio return_portfolio  \n",
       "duration                            \n",
       "3 year                    1.172576  \n",
       "5 year                    0.859471  \n",
       "10 year                   0.787539  "
      ]
     },
     "execution_count": 62,
     "metadata": {},
     "output_type": "execute_result"
    }
   ],
   "source": [
    "# Duration\n",
    "dfp.loc[:,idx[:,['annual_return', 'sharpe']]].swaplevel(1,0,axis=1).sort_index(axis=1).mean(level='duration')"
   ]
  },
  {
   "cell_type": "markdown",
   "metadata": {},
   "source": [
    "### Rebalance Period"
   ]
  },
  {
   "cell_type": "code",
   "execution_count": 63,
   "metadata": {
    "jupyter": {
     "source_hidden": true
    }
   },
   "outputs": [
    {
     "data": {
      "text/html": [
       "<div>\n",
       "<style scoped>\n",
       "    .dataframe tbody tr th:only-of-type {\n",
       "        vertical-align: middle;\n",
       "    }\n",
       "\n",
       "    .dataframe tbody tr th {\n",
       "        vertical-align: top;\n",
       "    }\n",
       "\n",
       "    .dataframe thead tr th {\n",
       "        text-align: left;\n",
       "    }\n",
       "\n",
       "    .dataframe thead tr:last-of-type th {\n",
       "        text-align: right;\n",
       "    }\n",
       "</style>\n",
       "<table border=\"1\" class=\"dataframe\">\n",
       "  <thead>\n",
       "    <tr>\n",
       "      <th>ratios</th>\n",
       "      <th colspan=\"2\" halign=\"left\">annual_return</th>\n",
       "      <th colspan=\"2\" halign=\"left\">sharpe</th>\n",
       "    </tr>\n",
       "    <tr>\n",
       "      <th>account_portfolio</th>\n",
       "      <th>return_account</th>\n",
       "      <th>return_portfolio</th>\n",
       "      <th>return_account</th>\n",
       "      <th>return_portfolio</th>\n",
       "    </tr>\n",
       "    <tr>\n",
       "      <th>rebalance_period</th>\n",
       "      <th></th>\n",
       "      <th></th>\n",
       "      <th></th>\n",
       "      <th></th>\n",
       "    </tr>\n",
       "  </thead>\n",
       "  <tbody>\n",
       "    <tr>\n",
       "      <th>D</th>\n",
       "      <td>0.074147</td>\n",
       "      <td>0.073901</td>\n",
       "      <td>0.936242</td>\n",
       "      <td>0.940794</td>\n",
       "    </tr>\n",
       "    <tr>\n",
       "      <th>M</th>\n",
       "      <td>0.073387</td>\n",
       "      <td>0.073223</td>\n",
       "      <td>0.937683</td>\n",
       "      <td>0.942066</td>\n",
       "    </tr>\n",
       "    <tr>\n",
       "      <th>Q</th>\n",
       "      <td>0.073466</td>\n",
       "      <td>0.073265</td>\n",
       "      <td>0.939650</td>\n",
       "      <td>0.943951</td>\n",
       "    </tr>\n",
       "    <tr>\n",
       "      <th>Y</th>\n",
       "      <td>0.072925</td>\n",
       "      <td>0.072612</td>\n",
       "      <td>0.928303</td>\n",
       "      <td>0.932638</td>\n",
       "    </tr>\n",
       "  </tbody>\n",
       "</table>\n",
       "</div>"
      ],
      "text/plain": [
       "ratios             annual_return                          sharpe  \\\n",
       "account_portfolio return_account return_portfolio return_account   \n",
       "rebalance_period                                                   \n",
       "D                       0.074147         0.073901       0.936242   \n",
       "M                       0.073387         0.073223       0.937683   \n",
       "Q                       0.073466         0.073265       0.939650   \n",
       "Y                       0.072925         0.072612       0.928303   \n",
       "\n",
       "ratios                              \n",
       "account_portfolio return_portfolio  \n",
       "rebalance_period                    \n",
       "D                         0.940794  \n",
       "M                         0.942066  \n",
       "Q                         0.943951  \n",
       "Y                         0.932638  "
      ]
     },
     "execution_count": 63,
     "metadata": {},
     "output_type": "execute_result"
    }
   ],
   "source": [
    "# Rebalance Period\n",
    "dfp.loc[:,idx[:,['annual_return', 'sharpe']]].swaplevel(1,0,axis=1).sort_index(axis=1).mean(level='rebalance_period')"
   ]
  },
  {
   "cell_type": "markdown",
   "metadata": {},
   "source": [
    "### Asset Mix"
   ]
  },
  {
   "cell_type": "code",
   "execution_count": 64,
   "metadata": {
    "jupyter": {
     "source_hidden": true
    }
   },
   "outputs": [
    {
     "data": {
      "text/html": [
       "<div>\n",
       "<style scoped>\n",
       "    .dataframe tbody tr th:only-of-type {\n",
       "        vertical-align: middle;\n",
       "    }\n",
       "\n",
       "    .dataframe tbody tr th {\n",
       "        vertical-align: top;\n",
       "    }\n",
       "\n",
       "    .dataframe thead tr th {\n",
       "        text-align: left;\n",
       "    }\n",
       "\n",
       "    .dataframe thead tr:last-of-type th {\n",
       "        text-align: right;\n",
       "    }\n",
       "</style>\n",
       "<table border=\"1\" class=\"dataframe\">\n",
       "  <thead>\n",
       "    <tr>\n",
       "      <th>ratios</th>\n",
       "      <th colspan=\"2\" halign=\"left\">annual_return</th>\n",
       "      <th colspan=\"2\" halign=\"left\">sharpe</th>\n",
       "    </tr>\n",
       "    <tr>\n",
       "      <th>account_portfolio</th>\n",
       "      <th>return_account</th>\n",
       "      <th>return_portfolio</th>\n",
       "      <th>return_account</th>\n",
       "      <th>return_portfolio</th>\n",
       "    </tr>\n",
       "    <tr>\n",
       "      <th>asset_mix</th>\n",
       "      <th></th>\n",
       "      <th></th>\n",
       "      <th></th>\n",
       "      <th></th>\n",
       "    </tr>\n",
       "  </thead>\n",
       "  <tbody>\n",
       "    <tr>\n",
       "      <th>75/25</th>\n",
       "      <td>0.063445</td>\n",
       "      <td>0.063753</td>\n",
       "      <td>1.172963</td>\n",
       "      <td>1.169359</td>\n",
       "    </tr>\n",
       "    <tr>\n",
       "      <th>50/50</th>\n",
       "      <td>0.072836</td>\n",
       "      <td>0.072526</td>\n",
       "      <td>0.886871</td>\n",
       "      <td>0.899709</td>\n",
       "    </tr>\n",
       "    <tr>\n",
       "      <th>25/75</th>\n",
       "      <td>0.084162</td>\n",
       "      <td>0.083472</td>\n",
       "      <td>0.746575</td>\n",
       "      <td>0.750519</td>\n",
       "    </tr>\n",
       "  </tbody>\n",
       "</table>\n",
       "</div>"
      ],
      "text/plain": [
       "ratios             annual_return                          sharpe  \\\n",
       "account_portfolio return_account return_portfolio return_account   \n",
       "asset_mix                                                          \n",
       "75/25                   0.063445         0.063753       1.172963   \n",
       "50/50                   0.072836         0.072526       0.886871   \n",
       "25/75                   0.084162         0.083472       0.746575   \n",
       "\n",
       "ratios                              \n",
       "account_portfolio return_portfolio  \n",
       "asset_mix                           \n",
       "75/25                     1.169359  \n",
       "50/50                     0.899709  \n",
       "25/75                     0.750519  "
      ]
     },
     "execution_count": 64,
     "metadata": {},
     "output_type": "execute_result"
    }
   ],
   "source": [
    "# Asset Mix\n",
    "dfp.loc[:,idx[:,['annual_return', 'sharpe']]].swaplevel(1,0,axis=1).sort_index(axis=1).mean(level='asset_mix')"
   ]
  },
  {
   "cell_type": "markdown",
   "metadata": {},
   "source": [
    "### Rebalance Range"
   ]
  },
  {
   "cell_type": "code",
   "execution_count": 65,
   "metadata": {
    "jupyter": {
     "source_hidden": true
    }
   },
   "outputs": [
    {
     "data": {
      "text/html": [
       "<div>\n",
       "<style scoped>\n",
       "    .dataframe tbody tr th:only-of-type {\n",
       "        vertical-align: middle;\n",
       "    }\n",
       "\n",
       "    .dataframe tbody tr th {\n",
       "        vertical-align: top;\n",
       "    }\n",
       "\n",
       "    .dataframe thead tr th {\n",
       "        text-align: left;\n",
       "    }\n",
       "\n",
       "    .dataframe thead tr:last-of-type th {\n",
       "        text-align: right;\n",
       "    }\n",
       "</style>\n",
       "<table border=\"1\" class=\"dataframe\">\n",
       "  <thead>\n",
       "    <tr>\n",
       "      <th>ratios</th>\n",
       "      <th colspan=\"2\" halign=\"left\">annual_return</th>\n",
       "      <th colspan=\"2\" halign=\"left\">sharpe</th>\n",
       "    </tr>\n",
       "    <tr>\n",
       "      <th>account_portfolio</th>\n",
       "      <th>return_account</th>\n",
       "      <th>return_portfolio</th>\n",
       "      <th>return_account</th>\n",
       "      <th>return_portfolio</th>\n",
       "    </tr>\n",
       "    <tr>\n",
       "      <th>rebalance_range</th>\n",
       "      <th></th>\n",
       "      <th></th>\n",
       "      <th></th>\n",
       "      <th></th>\n",
       "    </tr>\n",
       "  </thead>\n",
       "  <tbody>\n",
       "    <tr>\n",
       "      <th>narrow</th>\n",
       "      <td>0.074512</td>\n",
       "      <td>0.074361</td>\n",
       "      <td>0.953618</td>\n",
       "      <td>0.959747</td>\n",
       "    </tr>\n",
       "    <tr>\n",
       "      <th>broad</th>\n",
       "      <td>0.072451</td>\n",
       "      <td>0.072140</td>\n",
       "      <td>0.917322</td>\n",
       "      <td>0.919978</td>\n",
       "    </tr>\n",
       "  </tbody>\n",
       "</table>\n",
       "</div>"
      ],
      "text/plain": [
       "ratios             annual_return                          sharpe  \\\n",
       "account_portfolio return_account return_portfolio return_account   \n",
       "rebalance_range                                                    \n",
       "narrow                  0.074512         0.074361       0.953618   \n",
       "broad                   0.072451         0.072140       0.917322   \n",
       "\n",
       "ratios                              \n",
       "account_portfolio return_portfolio  \n",
       "rebalance_range                     \n",
       "narrow                    0.959747  \n",
       "broad                     0.919978  "
      ]
     },
     "execution_count": 65,
     "metadata": {},
     "output_type": "execute_result"
    }
   ],
   "source": [
    "# Rebalance Range\n",
    "dfp.loc[:,idx[:,['annual_return', 'sharpe']]].swaplevel(1,0,axis=1).sort_index(axis=1).mean(level='rebalance_range')"
   ]
  },
  {
   "cell_type": "markdown",
   "metadata": {},
   "source": [
    "## Tax Efficient Rebalancing\n",
    "\n",
    "In a household there will often be two investors with varying income levels and marginal tax rates. A general strategy is to place more of the tax efficient investments (e.g. stocks) in the taxable account, and also the higher return investment, again stocks, in the account of lower taxed investor. Following is a sample set of accounts with p1 being person1, the higher income investor, and p2 being person2, the lower income investor. Total investments are $500,000 and are divided into the following accounts: \n",
    "\n",
    "account |  p1    |     p2  \n",
    "--------|-------:|--------:\n",
    "tfsa    | 65,000 |  10,000   \n",
    "rsp     |100,000 | 100,000  \n",
    "inv     | 50,000 | 175,000  \n",
    "\n",
    "The asset allocation is \n",
    "\n",
    "Cash: 10%  \n",
    "Fixed Income: 40%  \n",
    "Equity: 50%  \n",
    "\n",
    "The table below shows the total portfolio being invested over 16 years. The overall strategy is maintained and the range of allocations can be seen around the targets."
   ]
  },
  {
   "cell_type": "code",
   "execution_count": 66,
   "metadata": {
    "jupyter": {
     "source_hidden": true
    }
   },
   "outputs": [
    {
     "data": {
      "application/vnd.vegalite.v2+json": {
       "$schema": "https://vega.github.io/schema/vega-lite/v2.6.0.json",
       "config": {
        "view": {
         "height": 300,
         "width": 400
        }
       },
       "data": {
        "format": {
         "type": "json"
        },
        "url": "altair_data/altair-data-e729b05292e0aec8bee69e7c7c35b46a.json"
       },
       "encoding": {
        "color": {
         "field": "asset",
         "sort": [
          "cash",
          "fixed_income",
          "equity"
         ],
         "type": "nominal"
        },
        "order": {
         "field": "sort_asset",
         "sort": "ascending",
         "type": "nominal"
        },
        "x": {
         "field": "trade_date",
         "title": "",
         "type": "temporal"
        },
        "y": {
         "aggregate": "sum",
         "field": "value",
         "sort": [
          "equity",
          "fixed_income",
          "cash"
         ],
         "stack": "normalize",
         "title": "Asset Allocation",
         "type": "quantitative"
        }
       },
       "height": 160,
       "mark": "area",
       "width": 300
      },
      "image/png": "[encoded data removed]",
      "text/plain": [
       "<VegaLite 2 object>\n",
       "\n",
       "If you see this message, it means the renderer has not been properly enabled\n",
       "for the frontend that you are using. For more information, see\n",
       "https://altair-viz.github.io/user_guide/troubleshooting.html\n"
      ]
     },
     "execution_count": 66,
     "metadata": {},
     "output_type": "execute_result"
    }
   ],
   "source": [
    "dfl.loc[dfl['asset']=='cash', 'sort_asset'] = 0\n",
    "dfl.loc[dfl['asset']=='fixed_income', 'sort_asset'] = 1\n",
    "dfl.loc[dfl['asset']=='equity', 'sort_asset'] = 2\n",
    "\n",
    "\n",
    "base = (\n",
    "    alt.Chart(dfl).mark_area().encode(\n",
    "        x=alt.X(\n",
    "            \"trade_date:T\", \n",
    "            title=\"\"\n",
    "        ),\n",
    "        y=alt.Y(\n",
    "            \"sum(value):Q\",\n",
    "            stack=\"normalize\",\n",
    "            sort=[\"equity\", \"fixed_income\", \"cash\"],\n",
    "            title=\"Asset Allocation\",\n",
    "        ),\n",
    "        color=alt.Color(\n",
    "            \"asset:N\", \n",
    "            sort=[\"cash\", \"fixed_income\", \"equity\"]\n",
    "        ),\n",
    "        order=alt.Order('sort_asset:N', sort='ascending')\n",
    "    )\n",
    "    .properties(width=300, height=160)\n",
    ")\n",
    "base"
   ]
  },
  {
   "cell_type": "markdown",
   "metadata": {},
   "source": [
    "While the overall asset allocation discipline and targets are maintained, the story at the account level is significantly different. By investing stocks into more tax efficient portfolios, the resulting accounts do not match the overall portfolio objective whatsoever. Living with this divergence is one of the psychological aspects that must be dealt with at the retail level. "
   ]
  },
  {
   "cell_type": "code",
   "execution_count": 67,
   "metadata": {
    "jupyter": {
     "source_hidden": true
    }
   },
   "outputs": [
    {
     "data": {
      "application/vnd.vegalite.v2+json": {
       "$schema": "https://vega.github.io/schema/vega-lite/v2.6.0.json",
       "config": {
        "view": {
         "height": 300,
         "width": 400
        }
       },
       "data": {
        "format": {
         "type": "json"
        },
        "url": "altair_data/altair-data-64f0168fb72ce3a2102b42c11b427eb2.json"
       },
       "facet": {
        "column": {
         "field": "account",
         "title": "",
         "type": "nominal"
        }
       },
       "spec": {
        "encoding": {
         "color": {
          "field": "asset",
          "sort": [
           "cash",
           "fixed_income",
           "equity"
          ],
          "type": "nominal"
         },
         "order": {
          "field": "sort_asset",
          "sort": "ascending",
          "type": "nominal"
         },
         "x": {
          "field": "trade_date",
          "title": "",
          "type": "temporal"
         },
         "y": {
          "aggregate": "sum",
          "field": "value",
          "stack": "normalize",
          "title": "Asset Allocation",
          "type": "quantitative"
         }
        },
        "height": 160,
        "mark": "area",
        "width": 120
       }
      },
      "image/png": "[encoded data removed]",
      "text/plain": [
       "<VegaLite 2 object>\n",
       "\n",
       "If you see this message, it means the renderer has not been properly enabled\n",
       "for the frontend that you are using. For more information, see\n",
       "https://altair-viz.github.io/user_guide/troubleshooting.html\n"
      ]
     },
     "execution_count": 67,
     "metadata": {},
     "output_type": "execute_result"
    }
   ],
   "source": [
    "df_p1 = dfl[dfl['owner'] == 'p1']\n",
    "df_p2 = dfl[dfl['owner'] == 'p2']\n",
    "\n",
    "base_p1 = alt.Chart(df_p1).mark_area().encode(\n",
    "    x=alt.X('trade_date:T', title=\"\"), \n",
    "    y=alt.Y('sum(value):Q', stack='normalize', title=\"Asset Allocation\"), \n",
    "    color=alt.Color('asset:N', sort=['cash', 'fixed_income', 'equity']),\n",
    "    order=alt.Order('sort_asset:N', sort='ascending')\n",
    ").properties(\n",
    "    width=120,\n",
    "    height=160\n",
    ").facet(\n",
    "    column=alt.Column('account:N', title=\"\"), \n",
    ")\n",
    "base_p2 = alt.Chart(df_p2).mark_area().encode(\n",
    "    x=alt.X('trade_date:T', title=\"\"), \n",
    "    y=alt.Y('sum(value):Q', stack='normalize', title=\"Asset Allocation\"), \n",
    "    color=alt.Color('asset:N', sort=['cash', 'fixed_income', 'equity']),\n",
    "    order=alt.Order('sort_asset:N', sort='ascending')\n",
    ").properties(\n",
    "    width=120,\n",
    "    height=160\n",
    ").facet(\n",
    "    column=alt.Column('account:N', title=\"\"),\n",
    ")\n",
    "\n",
    "base_p1"
   ]
  },
  {
   "cell_type": "code",
   "execution_count": 68,
   "metadata": {
    "jupyter": {
     "source_hidden": true
    }
   },
   "outputs": [
    {
     "data": {
      "application/vnd.vegalite.v2+json": {
       "$schema": "https://vega.github.io/schema/vega-lite/v2.6.0.json",
       "config": {
        "view": {
         "height": 300,
         "width": 400
        }
       },
       "data": {
        "format": {
         "type": "json"
        },
        "url": "altair_data/altair-data-4df75955e7b7a9b369d3b8dfddb82d54.json"
       },
       "facet": {
        "column": {
         "field": "account",
         "title": "",
         "type": "nominal"
        }
       },
       "spec": {
        "encoding": {
         "color": {
          "field": "asset",
          "sort": [
           "cash",
           "fixed_income",
           "equity"
          ],
          "type": "nominal"
         },
         "order": {
          "field": "sort_asset",
          "sort": "ascending",
          "type": "nominal"
         },
         "x": {
          "field": "trade_date",
          "title": "",
          "type": "temporal"
         },
         "y": {
          "aggregate": "sum",
          "field": "value",
          "stack": "normalize",
          "title": "Asset Allocation",
          "type": "quantitative"
         }
        },
        "height": 160,
        "mark": "area",
        "width": 120
       }
      },
      "image/png": "[encoded data removed]",
      "text/plain": [
       "<VegaLite 2 object>\n",
       "\n",
       "If you see this message, it means the renderer has not been properly enabled\n",
       "for the frontend that you are using. For more information, see\n",
       "https://altair-viz.github.io/user_guide/troubleshooting.html\n"
      ]
     },
     "execution_count": 68,
     "metadata": {},
     "output_type": "execute_result"
    }
   ],
   "source": [
    "base_p2"
   ]
  },
  {
   "cell_type": "markdown",
   "metadata": {},
   "source": [
    "# Results of Various Portfolio Account Mixes\n",
    "\n",
    "The results of this analysis show a definite improvement in returns and other ratios in the following order: \n",
    "\n",
    "       1. [p2_inv, p1_inv, p2_rsp, p1_rsp, p2_tfsa, p1_tfsa]\n",
    "       2. [p2_inv, p2_rsp, p2_tfsa, p1_inv, p1_rsp, p1_tfsa]\n",
    "       3. [p1_inv, p1_rsp, p1_tfsa, p2_inv, p2_rsp, p2_tfsa]\n",
    "       4. [p2_tfsa, p2_rsp, p2_inv, p1_tfsa, p1_rsp, p1_inv]\n",
    "       5. [p1_tfsa, p1_rsp, p1_inv, p2_tfsa, p2_rsp, p2_inv]\n",
    "       6. [p2_rsp, p1_rsp, p2_tfsa, p1_tfsa, p2_inv, p1_inv] \n",
    "       \n",
    "Portfolio one has equity investments going to the taxable accounts first, and to the lowest income investor first.  Portfolio one has the best improvement overall showing a pick up in return of almost 25 bps. Portfolio two also showed an improvement, particularly in sharpe ratio. \n",
    "       "
   ]
  },
  {
   "cell_type": "code",
   "execution_count": 69,
   "metadata": {
    "jupyter": {
     "source_hidden": true
    }
   },
   "outputs": [
    {
     "data": {
      "text/html": [
       "<div>\n",
       "<style scoped>\n",
       "    .dataframe tbody tr th:only-of-type {\n",
       "        vertical-align: middle;\n",
       "    }\n",
       "\n",
       "    .dataframe tbody tr th {\n",
       "        vertical-align: top;\n",
       "    }\n",
       "\n",
       "    .dataframe thead tr th {\n",
       "        text-align: left;\n",
       "    }\n",
       "\n",
       "    .dataframe thead tr:last-of-type th {\n",
       "        text-align: right;\n",
       "    }\n",
       "</style>\n",
       "<table border=\"1\" class=\"dataframe\">\n",
       "  <thead>\n",
       "    <tr>\n",
       "      <th>ratios</th>\n",
       "      <th colspan=\"2\" halign=\"left\">annual_return</th>\n",
       "      <th colspan=\"2\" halign=\"left\">annual_volatility</th>\n",
       "      <th colspan=\"2\" halign=\"left\">sharpe</th>\n",
       "    </tr>\n",
       "    <tr>\n",
       "      <th>account_portfolio</th>\n",
       "      <th>return_account</th>\n",
       "      <th>return_portfolio</th>\n",
       "      <th>return_account</th>\n",
       "      <th>return_portfolio</th>\n",
       "      <th>return_account</th>\n",
       "      <th>return_portfolio</th>\n",
       "    </tr>\n",
       "    <tr>\n",
       "      <th>accounts_list</th>\n",
       "      <th></th>\n",
       "      <th></th>\n",
       "      <th></th>\n",
       "      <th></th>\n",
       "      <th></th>\n",
       "      <th></th>\n",
       "    </tr>\n",
       "  </thead>\n",
       "  <tbody>\n",
       "    <tr>\n",
       "      <th>[p2_inv, p1_inv, p2_rsp, p1_rsp, p2_tfsa, p1_tfsa]</th>\n",
       "      <td>0.073481</td>\n",
       "      <td>0.075380</td>\n",
       "      <td>0.092111</td>\n",
       "      <td>0.089442</td>\n",
       "      <td>0.93547</td>\n",
       "      <td>0.963435</td>\n",
       "    </tr>\n",
       "    <tr>\n",
       "      <th>[p2_inv, p2_rsp, p2_tfsa, p1_inv, p1_rsp, p1_tfsa]</th>\n",
       "      <td>0.073481</td>\n",
       "      <td>0.074762</td>\n",
       "      <td>0.092111</td>\n",
       "      <td>0.094802</td>\n",
       "      <td>0.93547</td>\n",
       "      <td>0.926010</td>\n",
       "    </tr>\n",
       "    <tr>\n",
       "      <th>[p1_inv, p1_rsp, p1_tfsa, p2_inv, p2_rsp, p2_tfsa]</th>\n",
       "      <td>0.073481</td>\n",
       "      <td>0.073904</td>\n",
       "      <td>0.092111</td>\n",
       "      <td>0.086830</td>\n",
       "      <td>0.93547</td>\n",
       "      <td>0.986704</td>\n",
       "    </tr>\n",
       "    <tr>\n",
       "      <th>[p2_tfsa, p2_rsp, p2_inv, p1_tfsa, p1_rsp, p1_inv]</th>\n",
       "      <td>0.073481</td>\n",
       "      <td>0.073398</td>\n",
       "      <td>0.092111</td>\n",
       "      <td>0.098085</td>\n",
       "      <td>0.93547</td>\n",
       "      <td>0.891637</td>\n",
       "    </tr>\n",
       "    <tr>\n",
       "      <th>[p1_tfsa, p1_rsp, p1_inv, p2_tfsa, p2_rsp, p2_inv]</th>\n",
       "      <td>0.073481</td>\n",
       "      <td>0.072057</td>\n",
       "      <td>0.092111</td>\n",
       "      <td>0.089348</td>\n",
       "      <td>0.93547</td>\n",
       "      <td>0.935398</td>\n",
       "    </tr>\n",
       "    <tr>\n",
       "      <th>[p2_rsp, p1_rsp, p2_tfsa, p1_tfsa, p2_inv, p1_inv]</th>\n",
       "      <td>0.073481</td>\n",
       "      <td>0.070001</td>\n",
       "      <td>0.092111</td>\n",
       "      <td>0.087735</td>\n",
       "      <td>0.93547</td>\n",
       "      <td>0.935990</td>\n",
       "    </tr>\n",
       "  </tbody>\n",
       "</table>\n",
       "</div>"
      ],
      "text/plain": [
       "ratios                                              annual_return  \\\n",
       "account_portfolio                                  return_account   \n",
       "accounts_list                                                       \n",
       "[p2_inv, p1_inv, p2_rsp, p1_rsp, p2_tfsa, p1_tfsa]       0.073481   \n",
       "[p2_inv, p2_rsp, p2_tfsa, p1_inv, p1_rsp, p1_tfsa]       0.073481   \n",
       "[p1_inv, p1_rsp, p1_tfsa, p2_inv, p2_rsp, p2_tfsa]       0.073481   \n",
       "[p2_tfsa, p2_rsp, p2_inv, p1_tfsa, p1_rsp, p1_inv]       0.073481   \n",
       "[p1_tfsa, p1_rsp, p1_inv, p2_tfsa, p2_rsp, p2_inv]       0.073481   \n",
       "[p2_rsp, p1_rsp, p2_tfsa, p1_tfsa, p2_inv, p1_inv]       0.073481   \n",
       "\n",
       "ratios                                                               \\\n",
       "account_portfolio                                  return_portfolio   \n",
       "accounts_list                                                         \n",
       "[p2_inv, p1_inv, p2_rsp, p1_rsp, p2_tfsa, p1_tfsa]         0.075380   \n",
       "[p2_inv, p2_rsp, p2_tfsa, p1_inv, p1_rsp, p1_tfsa]         0.074762   \n",
       "[p1_inv, p1_rsp, p1_tfsa, p2_inv, p2_rsp, p2_tfsa]         0.073904   \n",
       "[p2_tfsa, p2_rsp, p2_inv, p1_tfsa, p1_rsp, p1_inv]         0.073398   \n",
       "[p1_tfsa, p1_rsp, p1_inv, p2_tfsa, p2_rsp, p2_inv]         0.072057   \n",
       "[p2_rsp, p1_rsp, p2_tfsa, p1_tfsa, p2_inv, p1_inv]         0.070001   \n",
       "\n",
       "ratios                                             annual_volatility  \\\n",
       "account_portfolio                                     return_account   \n",
       "accounts_list                                                          \n",
       "[p2_inv, p1_inv, p2_rsp, p1_rsp, p2_tfsa, p1_tfsa]          0.092111   \n",
       "[p2_inv, p2_rsp, p2_tfsa, p1_inv, p1_rsp, p1_tfsa]          0.092111   \n",
       "[p1_inv, p1_rsp, p1_tfsa, p2_inv, p2_rsp, p2_tfsa]          0.092111   \n",
       "[p2_tfsa, p2_rsp, p2_inv, p1_tfsa, p1_rsp, p1_inv]          0.092111   \n",
       "[p1_tfsa, p1_rsp, p1_inv, p2_tfsa, p2_rsp, p2_inv]          0.092111   \n",
       "[p2_rsp, p1_rsp, p2_tfsa, p1_tfsa, p2_inv, p1_inv]          0.092111   \n",
       "\n",
       "ratios                                                               \\\n",
       "account_portfolio                                  return_portfolio   \n",
       "accounts_list                                                         \n",
       "[p2_inv, p1_inv, p2_rsp, p1_rsp, p2_tfsa, p1_tfsa]         0.089442   \n",
       "[p2_inv, p2_rsp, p2_tfsa, p1_inv, p1_rsp, p1_tfsa]         0.094802   \n",
       "[p1_inv, p1_rsp, p1_tfsa, p2_inv, p2_rsp, p2_tfsa]         0.086830   \n",
       "[p2_tfsa, p2_rsp, p2_inv, p1_tfsa, p1_rsp, p1_inv]         0.098085   \n",
       "[p1_tfsa, p1_rsp, p1_inv, p2_tfsa, p2_rsp, p2_inv]         0.089348   \n",
       "[p2_rsp, p1_rsp, p2_tfsa, p1_tfsa, p2_inv, p1_inv]         0.087735   \n",
       "\n",
       "ratios                                                     sharpe  \\\n",
       "account_portfolio                                  return_account   \n",
       "accounts_list                                                       \n",
       "[p2_inv, p1_inv, p2_rsp, p1_rsp, p2_tfsa, p1_tfsa]        0.93547   \n",
       "[p2_inv, p2_rsp, p2_tfsa, p1_inv, p1_rsp, p1_tfsa]        0.93547   \n",
       "[p1_inv, p1_rsp, p1_tfsa, p2_inv, p2_rsp, p2_tfsa]        0.93547   \n",
       "[p2_tfsa, p2_rsp, p2_inv, p1_tfsa, p1_rsp, p1_inv]        0.93547   \n",
       "[p1_tfsa, p1_rsp, p1_inv, p2_tfsa, p2_rsp, p2_inv]        0.93547   \n",
       "[p2_rsp, p1_rsp, p2_tfsa, p1_tfsa, p2_inv, p1_inv]        0.93547   \n",
       "\n",
       "ratios                                                               \n",
       "account_portfolio                                  return_portfolio  \n",
       "accounts_list                                                        \n",
       "[p2_inv, p1_inv, p2_rsp, p1_rsp, p2_tfsa, p1_tfsa]         0.963435  \n",
       "[p2_inv, p2_rsp, p2_tfsa, p1_inv, p1_rsp, p1_tfsa]         0.926010  \n",
       "[p1_inv, p1_rsp, p1_tfsa, p2_inv, p2_rsp, p2_tfsa]         0.986704  \n",
       "[p2_tfsa, p2_rsp, p2_inv, p1_tfsa, p1_rsp, p1_inv]         0.891637  \n",
       "[p1_tfsa, p1_rsp, p1_inv, p2_tfsa, p2_rsp, p2_inv]         0.935398  \n",
       "[p2_rsp, p1_rsp, p2_tfsa, p1_tfsa, p2_inv, p1_inv]         0.935990  "
      ]
     },
     "execution_count": 69,
     "metadata": {},
     "output_type": "execute_result"
    }
   ],
   "source": [
    "dfp.loc[:, idx[:, [\"annual_return\", 'annual_volatility', 'sharpe']]].swaplevel(0,1,axis=1).sort_index(axis=1).groupby('accounts_list').mean().sort_values(by=[(\"annual_return\",\"return_portfolio\")], ascending=False)"
   ]
  },
  {
   "cell_type": "markdown",
   "metadata": {},
   "source": [
    "The general conclusion from the table above is that investing equities first in the lower income partner and also in the taxable account, can boost returns by approximately 19 bps over investing in the asset mixes in each account, and yield approximately 53 bps over the poorest performing allocation.  \n",
    "\n",
    "For passive investing, this is significant in that investors expect the underperform the market by approximately the costs of the etfs, less the cost of trading and taxes. By using this strategy passive investors may be able to gain that back."
   ]
  },
  {
   "cell_type": "markdown",
   "metadata": {},
   "source": [
    "A further analysis was performed just using asset mix number one above, [p2_inv, p1_inv, p2_rsp, p1_rsp, p2_tfsa, p1_tfsa]. Looking at item one alone across various dimensions, a clear advantage for this mix emerges.   "
   ]
  },
  {
   "cell_type": "markdown",
   "metadata": {},
   "source": [
    "### By start date: "
   ]
  },
  {
   "cell_type": "code",
   "execution_count": 70,
   "metadata": {
    "jupyter": {
     "source_hidden": true
    }
   },
   "outputs": [
    {
     "data": {
      "text/html": [
       "<div>\n",
       "<style scoped>\n",
       "    .dataframe tbody tr th:only-of-type {\n",
       "        vertical-align: middle;\n",
       "    }\n",
       "\n",
       "    .dataframe tbody tr th {\n",
       "        vertical-align: top;\n",
       "    }\n",
       "\n",
       "    .dataframe thead tr th {\n",
       "        text-align: left;\n",
       "    }\n",
       "\n",
       "    .dataframe thead tr:last-of-type th {\n",
       "        text-align: right;\n",
       "    }\n",
       "</style>\n",
       "<table border=\"1\" class=\"dataframe\">\n",
       "  <thead>\n",
       "    <tr>\n",
       "      <th>ratios</th>\n",
       "      <th colspan=\"2\" halign=\"left\">annual_return</th>\n",
       "      <th colspan=\"2\" halign=\"left\">sharpe</th>\n",
       "    </tr>\n",
       "    <tr>\n",
       "      <th>account_portfolio</th>\n",
       "      <th>return_account</th>\n",
       "      <th>return_portfolio</th>\n",
       "      <th>return_account</th>\n",
       "      <th>return_portfolio</th>\n",
       "    </tr>\n",
       "    <tr>\n",
       "      <th>start_date</th>\n",
       "      <th></th>\n",
       "      <th></th>\n",
       "      <th></th>\n",
       "      <th></th>\n",
       "    </tr>\n",
       "  </thead>\n",
       "  <tbody>\n",
       "    <tr>\n",
       "      <th>2002-01-01</th>\n",
       "      <td>0.085360</td>\n",
       "      <td>0.088495</td>\n",
       "      <td>1.108199</td>\n",
       "      <td>1.151816</td>\n",
       "    </tr>\n",
       "    <tr>\n",
       "      <th>2004-01-01</th>\n",
       "      <td>0.086410</td>\n",
       "      <td>0.088081</td>\n",
       "      <td>1.075743</td>\n",
       "      <td>1.104591</td>\n",
       "    </tr>\n",
       "    <tr>\n",
       "      <th>2005-01-01</th>\n",
       "      <td>0.088639</td>\n",
       "      <td>0.089347</td>\n",
       "      <td>1.062155</td>\n",
       "      <td>1.081266</td>\n",
       "    </tr>\n",
       "    <tr>\n",
       "      <th>2007-01-01</th>\n",
       "      <td>0.034729</td>\n",
       "      <td>0.037762</td>\n",
       "      <td>0.468676</td>\n",
       "      <td>0.499144</td>\n",
       "    </tr>\n",
       "    <tr>\n",
       "      <th>2009-01-01</th>\n",
       "      <td>0.072268</td>\n",
       "      <td>0.073216</td>\n",
       "      <td>0.962576</td>\n",
       "      <td>0.980358</td>\n",
       "    </tr>\n",
       "  </tbody>\n",
       "</table>\n",
       "</div>"
      ],
      "text/plain": [
       "ratios             annual_return                          sharpe  \\\n",
       "account_portfolio return_account return_portfolio return_account   \n",
       "start_date                                                         \n",
       "2002-01-01              0.085360         0.088495       1.108199   \n",
       "2004-01-01              0.086410         0.088081       1.075743   \n",
       "2005-01-01              0.088639         0.089347       1.062155   \n",
       "2007-01-01              0.034729         0.037762       0.468676   \n",
       "2009-01-01              0.072268         0.073216       0.962576   \n",
       "\n",
       "ratios                              \n",
       "account_portfolio return_portfolio  \n",
       "start_date                          \n",
       "2002-01-01                1.151816  \n",
       "2004-01-01                1.104591  \n",
       "2005-01-01                1.081266  \n",
       "2007-01-01                0.499144  \n",
       "2009-01-01                0.980358  "
      ]
     },
     "execution_count": 70,
     "metadata": {},
     "output_type": "execute_result"
    }
   ],
   "source": [
    "dfp.loc['[p2_inv, p1_inv, p2_rsp, p1_rsp, p2_tfsa, p1_tfsa]', idx[:,['annual_return','sharpe']]].swaplevel(0,1,axis=1).sort_index(axis=1).groupby('start_date').mean()"
   ]
  },
  {
   "cell_type": "markdown",
   "metadata": {},
   "source": [
    "### By duration."
   ]
  },
  {
   "cell_type": "code",
   "execution_count": 71,
   "metadata": {
    "jupyter": {
     "source_hidden": true
    }
   },
   "outputs": [
    {
     "data": {
      "text/html": [
       "<div>\n",
       "<style scoped>\n",
       "    .dataframe tbody tr th:only-of-type {\n",
       "        vertical-align: middle;\n",
       "    }\n",
       "\n",
       "    .dataframe tbody tr th {\n",
       "        vertical-align: top;\n",
       "    }\n",
       "\n",
       "    .dataframe thead tr th {\n",
       "        text-align: left;\n",
       "    }\n",
       "\n",
       "    .dataframe thead tr:last-of-type th {\n",
       "        text-align: right;\n",
       "    }\n",
       "</style>\n",
       "<table border=\"1\" class=\"dataframe\">\n",
       "  <thead>\n",
       "    <tr>\n",
       "      <th>ratios</th>\n",
       "      <th colspan=\"2\" halign=\"left\">annual_return</th>\n",
       "      <th colspan=\"2\" halign=\"left\">sharpe</th>\n",
       "    </tr>\n",
       "    <tr>\n",
       "      <th>account_portfolio</th>\n",
       "      <th>return_account</th>\n",
       "      <th>return_portfolio</th>\n",
       "      <th>return_account</th>\n",
       "      <th>return_portfolio</th>\n",
       "    </tr>\n",
       "    <tr>\n",
       "      <th>duration</th>\n",
       "      <th></th>\n",
       "      <th></th>\n",
       "      <th></th>\n",
       "      <th></th>\n",
       "    </tr>\n",
       "  </thead>\n",
       "  <tbody>\n",
       "    <tr>\n",
       "      <th>10 year</th>\n",
       "      <td>0.060292</td>\n",
       "      <td>0.061670</td>\n",
       "      <td>0.782892</td>\n",
       "      <td>0.805756</td>\n",
       "    </tr>\n",
       "    <tr>\n",
       "      <th>3 year</th>\n",
       "      <td>0.090748</td>\n",
       "      <td>0.092984</td>\n",
       "      <td>1.167615</td>\n",
       "      <td>1.200925</td>\n",
       "    </tr>\n",
       "    <tr>\n",
       "      <th>5 year</th>\n",
       "      <td>0.069403</td>\n",
       "      <td>0.071487</td>\n",
       "      <td>0.855903</td>\n",
       "      <td>0.883624</td>\n",
       "    </tr>\n",
       "  </tbody>\n",
       "</table>\n",
       "</div>"
      ],
      "text/plain": [
       "ratios             annual_return                          sharpe  \\\n",
       "account_portfolio return_account return_portfolio return_account   \n",
       "duration                                                           \n",
       "10 year                 0.060292         0.061670       0.782892   \n",
       "3 year                  0.090748         0.092984       1.167615   \n",
       "5 year                  0.069403         0.071487       0.855903   \n",
       "\n",
       "ratios                              \n",
       "account_portfolio return_portfolio  \n",
       "duration                            \n",
       "10 year                   0.805756  \n",
       "3 year                    1.200925  \n",
       "5 year                    0.883624  "
      ]
     },
     "execution_count": 71,
     "metadata": {},
     "output_type": "execute_result"
    }
   ],
   "source": [
    "dfp.loc['[p2_inv, p1_inv, p2_rsp, p1_rsp, p2_tfsa, p1_tfsa]', idx[:,['annual_return','sharpe']]].swaplevel(0,1,axis=1).sort_index(axis=1).groupby('duration').mean()"
   ]
  },
  {
   "cell_type": "markdown",
   "metadata": {},
   "source": [
    "### By rebalancing range."
   ]
  },
  {
   "cell_type": "code",
   "execution_count": 72,
   "metadata": {
    "jupyter": {
     "source_hidden": true
    }
   },
   "outputs": [
    {
     "data": {
      "text/html": [
       "<div>\n",
       "<style scoped>\n",
       "    .dataframe tbody tr th:only-of-type {\n",
       "        vertical-align: middle;\n",
       "    }\n",
       "\n",
       "    .dataframe tbody tr th {\n",
       "        vertical-align: top;\n",
       "    }\n",
       "\n",
       "    .dataframe thead tr th {\n",
       "        text-align: left;\n",
       "    }\n",
       "\n",
       "    .dataframe thead tr:last-of-type th {\n",
       "        text-align: right;\n",
       "    }\n",
       "</style>\n",
       "<table border=\"1\" class=\"dataframe\">\n",
       "  <thead>\n",
       "    <tr>\n",
       "      <th>ratios</th>\n",
       "      <th colspan=\"2\" halign=\"left\">annual_return</th>\n",
       "      <th colspan=\"2\" halign=\"left\">sharpe</th>\n",
       "    </tr>\n",
       "    <tr>\n",
       "      <th>account_portfolio</th>\n",
       "      <th>return_account</th>\n",
       "      <th>return_portfolio</th>\n",
       "      <th>return_account</th>\n",
       "      <th>return_portfolio</th>\n",
       "    </tr>\n",
       "    <tr>\n",
       "      <th>rebalance_range</th>\n",
       "      <th></th>\n",
       "      <th></th>\n",
       "      <th></th>\n",
       "      <th></th>\n",
       "    </tr>\n",
       "  </thead>\n",
       "  <tbody>\n",
       "    <tr>\n",
       "      <th>broad</th>\n",
       "      <td>0.072451</td>\n",
       "      <td>0.074218</td>\n",
       "      <td>0.917322</td>\n",
       "      <td>0.944151</td>\n",
       "    </tr>\n",
       "    <tr>\n",
       "      <th>narrow</th>\n",
       "      <td>0.074512</td>\n",
       "      <td>0.076542</td>\n",
       "      <td>0.953618</td>\n",
       "      <td>0.982719</td>\n",
       "    </tr>\n",
       "  </tbody>\n",
       "</table>\n",
       "</div>"
      ],
      "text/plain": [
       "ratios             annual_return                          sharpe  \\\n",
       "account_portfolio return_account return_portfolio return_account   \n",
       "rebalance_range                                                    \n",
       "broad                   0.072451         0.074218       0.917322   \n",
       "narrow                  0.074512         0.076542       0.953618   \n",
       "\n",
       "ratios                              \n",
       "account_portfolio return_portfolio  \n",
       "rebalance_range                     \n",
       "broad                     0.944151  \n",
       "narrow                    0.982719  "
      ]
     },
     "execution_count": 72,
     "metadata": {},
     "output_type": "execute_result"
    }
   ],
   "source": [
    "dfp.loc['[p2_inv, p1_inv, p2_rsp, p1_rsp, p2_tfsa, p1_tfsa]', idx[:,['annual_return','sharpe']]].swaplevel(0,1,axis=1).sort_index(axis=1).groupby('rebalance_range').mean()"
   ]
  },
  {
   "cell_type": "markdown",
   "metadata": {},
   "source": [
    "### More Tests\n",
    "\n",
    "All of this suggest that more test are required. Dimensions will be adjusted as follows: \n",
    "\n",
    "- Duration will be set to five years. \n",
    "- Rebalancing period will be set to monthly.\n",
    "- Accounts tested: \n",
    "       1. [p2_inv, p1_inv, p2_rsp, p1_rsp, p2_tfsa, p1_tfsa]\n",
    "       2. [p2_inv, p2_rsp, p2_tfsa, p1_inv, p1_rsp, p1_tfsa]\n",
    "- Rebalance range set to narrow.\n",
    "- Asset allocation over all three fixed income/equity; 75/25, 50/50, 25/75.\n",
    "\n",
    "Starting dates will be semi-annually starting 2002-01-01 and carrying on until 2010-01-01. This will provide a more thorough date sampling.  The evidence from the analysis shows that the advantage of allocating stocks into taxable accounts and with lower income investors continues to hold true.\n"
   ]
  },
  {
   "cell_type": "code",
   "execution_count": 73,
   "metadata": {
    "jupyter": {
     "source_hidden": true
    }
   },
   "outputs": [
    {
     "data": {
      "text/html": [
       "<div>\n",
       "<style scoped>\n",
       "    .dataframe tbody tr th:only-of-type {\n",
       "        vertical-align: middle;\n",
       "    }\n",
       "\n",
       "    .dataframe tbody tr th {\n",
       "        vertical-align: top;\n",
       "    }\n",
       "\n",
       "    .dataframe thead tr th {\n",
       "        text-align: left;\n",
       "    }\n",
       "\n",
       "    .dataframe thead tr:last-of-type th {\n",
       "        text-align: right;\n",
       "    }\n",
       "</style>\n",
       "<table border=\"1\" class=\"dataframe\">\n",
       "  <thead>\n",
       "    <tr>\n",
       "      <th>account_portfolio</th>\n",
       "      <th colspan=\"3\" halign=\"left\">return_account</th>\n",
       "      <th colspan=\"3\" halign=\"left\">return_portfolio</th>\n",
       "    </tr>\n",
       "    <tr>\n",
       "      <th>ratios</th>\n",
       "      <th>annual_return</th>\n",
       "      <th>annual_volatility</th>\n",
       "      <th>sharpe</th>\n",
       "      <th>annual_return</th>\n",
       "      <th>annual_volatility</th>\n",
       "      <th>sharpe</th>\n",
       "    </tr>\n",
       "    <tr>\n",
       "      <th>accounts_list</th>\n",
       "      <th></th>\n",
       "      <th></th>\n",
       "      <th></th>\n",
       "      <th></th>\n",
       "      <th></th>\n",
       "      <th></th>\n",
       "    </tr>\n",
       "  </thead>\n",
       "  <tbody>\n",
       "    <tr>\n",
       "      <th>[p2_inv, p1_inv, p2_rsp, p1_rsp, p2_tfsa, p1_tfsa]</th>\n",
       "      <td>0.070183</td>\n",
       "      <td>0.098826</td>\n",
       "      <td>0.863835</td>\n",
       "      <td>0.072436</td>\n",
       "      <td>0.095919</td>\n",
       "      <td>0.890310</td>\n",
       "    </tr>\n",
       "    <tr>\n",
       "      <th>[p2_inv, p2_rsp, p2_tfsa, p1_inv, p1_rsp, p1_tfsa]</th>\n",
       "      <td>0.070183</td>\n",
       "      <td>0.098826</td>\n",
       "      <td>0.863835</td>\n",
       "      <td>0.071462</td>\n",
       "      <td>0.101607</td>\n",
       "      <td>0.855278</td>\n",
       "    </tr>\n",
       "  </tbody>\n",
       "</table>\n",
       "</div>"
      ],
      "text/plain": [
       "account_portfolio                                  return_account  \\\n",
       "ratios                                              annual_return   \n",
       "accounts_list                                                       \n",
       "[p2_inv, p1_inv, p2_rsp, p1_rsp, p2_tfsa, p1_tfsa]       0.070183   \n",
       "[p2_inv, p2_rsp, p2_tfsa, p1_inv, p1_rsp, p1_tfsa]       0.070183   \n",
       "\n",
       "account_portfolio                                                     \\\n",
       "ratios                                             annual_volatility   \n",
       "accounts_list                                                          \n",
       "[p2_inv, p1_inv, p2_rsp, p1_rsp, p2_tfsa, p1_tfsa]          0.098826   \n",
       "[p2_inv, p2_rsp, p2_tfsa, p1_inv, p1_rsp, p1_tfsa]          0.098826   \n",
       "\n",
       "account_portfolio                                            return_portfolio  \\\n",
       "ratios                                                sharpe    annual_return   \n",
       "accounts_list                                                                   \n",
       "[p2_inv, p1_inv, p2_rsp, p1_rsp, p2_tfsa, p1_tfsa]  0.863835         0.072436   \n",
       "[p2_inv, p2_rsp, p2_tfsa, p1_inv, p1_rsp, p1_tfsa]  0.863835         0.071462   \n",
       "\n",
       "account_portfolio                                                               \n",
       "ratios                                             annual_volatility    sharpe  \n",
       "accounts_list                                                                   \n",
       "[p2_inv, p1_inv, p2_rsp, p1_rsp, p2_tfsa, p1_tfsa]          0.095919  0.890310  \n",
       "[p2_inv, p2_rsp, p2_tfsa, p1_inv, p1_rsp, p1_tfsa]          0.101607  0.855278  "
      ]
     },
     "execution_count": 73,
     "metadata": {},
     "output_type": "execute_result"
    }
   ],
   "source": [
    "dff.loc[:, idx[:, [\"annual_return\", 'annual_volatility', 'sharpe']]].mean(level=[0]).sort_values(by=[(\"return_portfolio\", \"annual_return\")], ascending=False)"
   ]
  },
  {
   "cell_type": "markdown",
   "metadata": {},
   "source": [
    "### For One Investor\n",
    "\n",
    "Investing the portfolios for just one investor, again investing stock in the taxable account achieves greater returns than the other mixes."
   ]
  },
  {
   "cell_type": "code",
   "execution_count": 74,
   "metadata": {
    "jupyter": {
     "source_hidden": true
    }
   },
   "outputs": [
    {
     "data": {
      "text/html": [
       "<div>\n",
       "<style scoped>\n",
       "    .dataframe tbody tr th:only-of-type {\n",
       "        vertical-align: middle;\n",
       "    }\n",
       "\n",
       "    .dataframe tbody tr th {\n",
       "        vertical-align: top;\n",
       "    }\n",
       "\n",
       "    .dataframe thead tr th {\n",
       "        text-align: left;\n",
       "    }\n",
       "\n",
       "    .dataframe thead tr:last-of-type th {\n",
       "        text-align: right;\n",
       "    }\n",
       "</style>\n",
       "<table border=\"1\" class=\"dataframe\">\n",
       "  <thead>\n",
       "    <tr>\n",
       "      <th>ratios</th>\n",
       "      <th colspan=\"2\" halign=\"left\">annual_return</th>\n",
       "      <th colspan=\"2\" halign=\"left\">sharpe</th>\n",
       "    </tr>\n",
       "    <tr>\n",
       "      <th>account_portfolio</th>\n",
       "      <th>return_account</th>\n",
       "      <th>return_portfolio</th>\n",
       "      <th>return_account</th>\n",
       "      <th>return_portfolio</th>\n",
       "    </tr>\n",
       "    <tr>\n",
       "      <th>accounts_list</th>\n",
       "      <th></th>\n",
       "      <th></th>\n",
       "      <th></th>\n",
       "      <th></th>\n",
       "    </tr>\n",
       "  </thead>\n",
       "  <tbody>\n",
       "    <tr>\n",
       "      <th>[p2_inv, p2_rsp, p2_tfsa]</th>\n",
       "      <td>0.072621</td>\n",
       "      <td>0.074084</td>\n",
       "      <td>0.878688</td>\n",
       "      <td>0.903244</td>\n",
       "    </tr>\n",
       "    <tr>\n",
       "      <th>[p2_tfsa, p2_rsp, p2_inv,]</th>\n",
       "      <td>0.072621</td>\n",
       "      <td>0.071245</td>\n",
       "      <td>0.878688</td>\n",
       "      <td>0.845525</td>\n",
       "    </tr>\n",
       "    <tr>\n",
       "      <th>[p1_inv, p1_rsp, p1_tfsa]</th>\n",
       "      <td>0.067691</td>\n",
       "      <td>0.070657</td>\n",
       "      <td>0.847833</td>\n",
       "      <td>0.902158</td>\n",
       "    </tr>\n",
       "    <tr>\n",
       "      <th>[p2_rsp, p2_tfsa, p2_inv]</th>\n",
       "      <td>0.072621</td>\n",
       "      <td>0.070440</td>\n",
       "      <td>0.878688</td>\n",
       "      <td>0.885253</td>\n",
       "    </tr>\n",
       "    <tr>\n",
       "      <th>[p1_tfsa, p1_rsp, p1_inv,]</th>\n",
       "      <td>0.067691</td>\n",
       "      <td>0.064954</td>\n",
       "      <td>0.847833</td>\n",
       "      <td>0.776031</td>\n",
       "    </tr>\n",
       "    <tr>\n",
       "      <th>[p1_rsp, p1_tfsa, p1_inv]</th>\n",
       "      <td>0.067691</td>\n",
       "      <td>0.062801</td>\n",
       "      <td>0.847833</td>\n",
       "      <td>0.867494</td>\n",
       "    </tr>\n",
       "  </tbody>\n",
       "</table>\n",
       "</div>"
      ],
      "text/plain": [
       "ratios                      annual_return                          sharpe  \\\n",
       "account_portfolio          return_account return_portfolio return_account   \n",
       "accounts_list                                                               \n",
       "[p2_inv, p2_rsp, p2_tfsa]        0.072621         0.074084       0.878688   \n",
       "[p2_tfsa, p2_rsp, p2_inv,]       0.072621         0.071245       0.878688   \n",
       "[p1_inv, p1_rsp, p1_tfsa]        0.067691         0.070657       0.847833   \n",
       "[p2_rsp, p2_tfsa, p2_inv]        0.072621         0.070440       0.878688   \n",
       "[p1_tfsa, p1_rsp, p1_inv,]       0.067691         0.064954       0.847833   \n",
       "[p1_rsp, p1_tfsa, p1_inv]        0.067691         0.062801       0.847833   \n",
       "\n",
       "ratios                                       \n",
       "account_portfolio          return_portfolio  \n",
       "accounts_list                                \n",
       "[p2_inv, p2_rsp, p2_tfsa]          0.903244  \n",
       "[p2_tfsa, p2_rsp, p2_inv,]         0.845525  \n",
       "[p1_inv, p1_rsp, p1_tfsa]          0.902158  \n",
       "[p2_rsp, p2_tfsa, p2_inv]          0.885253  \n",
       "[p1_tfsa, p1_rsp, p1_inv,]         0.776031  \n",
       "[p1_rsp, p1_tfsa, p1_inv]          0.867494  "
      ]
     },
     "execution_count": 74,
     "metadata": {},
     "output_type": "execute_result"
    }
   ],
   "source": [
    "dft.loc[:, idx[:,['annual_return','sharpe']]].swaplevel(0,1,axis=1).sort_index(axis=1).groupby('accounts_list').mean().sort_values(by=[(\"annual_return\", \"return_portfolio\")], ascending=False)"
   ]
  },
  {
   "cell_type": "markdown",
   "metadata": {},
   "source": [
    "# Conclusion\n",
    "\n",
    "This analysis looked at the after-tax returns of basic Canadian fixed income and equity accounts and portfolios from 2002 - 2018. It looked at traditional mechanisms for trying to enhance returns and found that most do not offer increased yields over the time measured. \n",
    "\n",
    "However, it was determined that by managing the asset allocation process so that equities are favoured in taxable accounts as well as the lower income partner or spouse when available, that almost 25 bps of extra yield could be achieved over doing nothing and up to 50 bps over the poorest performing allocation. \n",
    "\n",
    "Given that passive investors typically underperform the market by the expense ratio of the exchange traded fund, this strategy could help to put the investor on par with the market itself. \n",
    "\n",
    "The software built for this analysis can only review two funds at a time. Further research could be done on multi-asset portfolios to determine if allocating equities to lower tax individuals and taxable accounts will still pick up yield over allocating by individual accounts.\n",
    "\n"
   ]
  }
 ],
 "metadata": {
  "kernelspec": {
   "display_name": "Python 3",
   "language": "python",
   "name": "python3"
  },
  "language_info": {
   "codemirror_mode": {
    "name": "ipython",
    "version": 3
   },
   "file_extension": ".py",
   "mimetype": "text/x-python",
   "name": "python",
   "nbconvert_exporter": "python",
   "pygments_lexer": "ipython3",
   "version": "3.7.1"
  }
 },
 "nbformat": 4,
 "nbformat_minor": 2
}
