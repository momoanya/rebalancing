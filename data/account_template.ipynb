{
 "cells": [
  {
   "cell_type": "code",
   "execution_count": 2,
   "metadata": {},
   "outputs": [],
   "source": [
    "import numpy as np\n",
    "import pandas as pd\n",
    "import pickle\n",
    "import time\n",
    "import sys\n",
    "\n",
    "pd.set_option(\"display.max_columns\", 100)"
   ]
  },
  {
   "cell_type": "code",
   "execution_count": 2,
   "metadata": {},
   "outputs": [
    {
     "data": {
      "text/plain": [
       "12503.86172"
      ]
     },
     "execution_count": 2,
     "metadata": {},
     "output_type": "execute_result"
    }
   ],
   "source": [
    "1.0578 * 8582 + .68162 * 5026"
   ]
  },
  {
   "cell_type": "code",
   "execution_count": 39,
   "metadata": {},
   "outputs": [],
   "source": [
    "### Use this to view the accounts_template.pickle file\n",
    "\n",
    "# raw price data has been munged and is in a picKle file ready for use.\n",
    "filename = \"accounts_template.pickle\"\n",
    "\n",
    "# open the existing raw data from the pickle file\n",
    "infile = open(filename, \"rb\")\n",
    "df = pickle.load(infile)\n",
    "infile.close()\n",
    "# df"
   ]
  },
  {
   "cell_type": "markdown",
   "metadata": {},
   "source": [
    "Munge historical data, create prices dataframe."
   ]
  },
  {
   "cell_type": "code",
   "execution_count": 41,
   "metadata": {},
   "outputs": [],
   "source": [
    "# raw data has been munged and is in a picle file ready for use. This list\n",
    "# out full information including\n",
    "filename = \"historical_prices.pickle\"\n",
    "\n",
    "# open the existing raw data from the pickle file\n",
    "infile = open(filename, \"rb\")\n",
    "hist = pickle.load(infile)\n",
    "infile.close()\n",
    "\n",
    "# the securities start at different times. the latest start is\n",
    "# 2001-09-06. drop all securities before then.\n",
    "# start analysis at the beginning of 2002\n",
    "# end at '2018-12-31'\n",
    "hist = hist[hist[\"trade_date\"] >= \"2002-01-01\"]\n",
    "hist = hist[hist[\"trade_date\"] <= \"2018-12-31\"]\n",
    "\n",
    "# reset the index inplace\n",
    "hist.reset_index(drop=True, inplace=True)\n",
    "\n",
    "# eliminate securities not used\n",
    "hist = hist[hist[\"security\"].isin([\"XBB\", \"XIC\", \"TD_Bond\", \"TD_CDN_Equity\"])]\n",
    "\n",
    "# change nan values to 0\n",
    "hist[\"dividends\"].fillna(0, inplace=True)"
   ]
  },
  {
   "cell_type": "markdown",
   "metadata": {},
   "source": [
    "initialize"
   ]
  },
  {
   "cell_type": "code",
   "execution_count": 42,
   "metadata": {},
   "outputs": [],
   "source": [
    "# transform the hist df. it needs to be reshaped\n",
    "# create a dictionary of dataframes and then concat them on axis 1\n",
    "list_of_dfs = {}\n",
    "securities = [\"XBB\", \"XIC\", \"TD_Bond\", \"TD_CDN_Equity\"]\n",
    "\n",
    "# create four dateframes form hist, drop the security columns, and then concat\n",
    "for sec, df in zip(securities, [\"xbb_df\", \"xic_df\", \"td_bond_df\", \"td_eq_df\"]):\n",
    "    list_of_dfs[df] = (\n",
    "        hist[hist.loc[:, \"security\"] == sec]\n",
    "        .set_index(\"trade_date\")\n",
    "        .drop([\"security\"], axis=1)\n",
    "    )\n",
    "df = pd.concat(list_of_dfs.values(), axis=1)"
   ]
  },
  {
   "cell_type": "code",
   "execution_count": 43,
   "metadata": {},
   "outputs": [],
   "source": [
    "# make a list of the headers of the columns from hist\n",
    "# drop the security and trade date from the header list\n",
    "headers = hist.columns.values\n",
    "head = list(headers)\n",
    "\n",
    "head.remove(\"security\")\n",
    "head.remove(\"trade_date\")"
   ]
  },
  {
   "cell_type": "code",
   "execution_count": 44,
   "metadata": {},
   "outputs": [],
   "source": [
    "# create the new column names and add to df.\n",
    "li = []\n",
    "for s in securities:\n",
    "    for h in head:\n",
    "        li.append(s + \"-\" + h)\n",
    "df.columns = li"
   ]
  },
  {
   "cell_type": "code",
   "execution_count": 45,
   "metadata": {},
   "outputs": [],
   "source": [
    "# initialize all of the columns\n",
    "\n",
    "# insert trading columns for mutual funds with 0 value\n",
    "df.insert(1, \"TD_Bond-unit_traded\", 0)\n",
    "df.insert(2, \"TD_Bond-unit\", 0)\n",
    "df.insert(3, \"TD_Bond-value\", 0)\n",
    "df.insert(4, \"TD_CDN_Equity-unit_traded\", 0)\n",
    "df.insert(5, \"TD_CDN_Equity-unit\", 0)\n",
    "df.insert(6, \"TD_CDN_Equity-value\", 0)\n",
    "\n",
    "# These are the unitS traded\n",
    "df.insert(0, \"XIC-unit_traded\", 0)\n",
    "df.insert(0, \"XBB-unit_traded\", 0)\n",
    "\n",
    "# for the first transaction, units = units_traded\n",
    "df.insert(1, \"XBB-unit\", 0)\n",
    "df.insert(2, \"XBB-value\", 0)\n",
    "df.insert(4, \"XIC-unit\", 0)\n",
    "df.insert(5, \"XIC-value\", 0)\n",
    "\n",
    "# acb columns \n",
    "df.insert(1, \"XBB-acb\", 0)\n",
    "df.insert(2, \"XIC-acb\", 0)\n",
    "df.insert(3, \"TD_Bond-acb\", 0)\n",
    "df.insert(4, \"TD_CDN_Equity-acb\", 0)\n",
    "\n",
    "\n",
    "# iniitial set up of the dataframe with no rebalancing yet. Just an initial\n",
    "# investment growing with the market. All dividends to cash. No Mutual Funds\n",
    "df.insert(0, \"cash\", 0)\n",
    "df.insert(1, \"dep_with\", 0)\n",
    "df.insert(2, \"market_value\", 0)\n",
    "df.insert(3, \"total_value\", 0)\n",
    "df.insert(4, \"total_value_norm\", 0)\n",
    "df.insert(5, \"tax_total\", 0)\n",
    "df.insert(6, \"value_after_tax\", 0)\n",
    "df.insert(7, \"value_after_tax_norm\", 0)\n",
    "df.insert(8, \"costs\", 0)\n",
    "df.insert(9, \"rebalanced\", False)\n",
    "df.insert(10, \"cash_allocation\", 0)\n",
    "df.insert(11, \"fixed_income_allocation\", 0)\n",
    "df.insert(12, \"equity_allocation\", 0)\n",
    "df.insert(13, \"cash_total\", 0)\n",
    "df.insert(14, \"fixed_income_total\", 0)\n",
    "df.insert(15, \"equity_total\", 0)\n",
    "df.insert(16, \"tax_accrued\", 0)\n",
    "df.insert(17, \"tax_dividend\", 0)\n",
    "df.insert(18, \"tax_gain\", 0)\n",
    "df.insert(19, \"tax_realized\", 0)\n",
    "\n",
    "\n",
    "\n",
    "\n",
    "\n",
    "# dividends to cash\n",
    "df.insert(2, \"dividends\", 0)\n",
    "\n",
    "# track cash flow for purchases and sales\n",
    "df.insert(3, \"purchases\", 0)\n",
    "df.insert(4, \"sales\", 0)"
   ]
  },
  {
   "cell_type": "code",
   "execution_count": 46,
   "metadata": {},
   "outputs": [],
   "source": [
    "# the dataframe template is built, sort the columns.\n",
    "columnsTitles = [\n",
    "    \"cash\",\n",
    "    \"dep_with\",\n",
    "    \"dividends\",\n",
    "    \"purchases\",\n",
    "    \"sales\",\n",
    "    \"market_value\",\n",
    "    \"total_value\",\n",
    "    \"total_value_norm\",\n",
    "    \"tax_accrued\",\n",
    "    \"tax_dividend\",\n",
    "    \"tax_gain\",\n",
    "    \"tax_realized\",\n",
    "    \"tax_total\",\n",
    "    \"value_after_tax\",\n",
    "    \"value_after_tax_norm\",\n",
    "    \"costs\",\n",
    "    \"rebalanced\",\n",
    "    \"cash_allocation\",\n",
    "    \"fixed_income_allocation\",\n",
    "    \"equity_allocation\",\n",
    "    \"cash_total\", \n",
    "    \"fixed_income_total\", \n",
    "    \"equity_total\",\n",
    "    \"XBB-nav_per_share\",\n",
    "    \"XBB-unit_traded\",\n",
    "    \"XBB-unit\",\n",
    "    \"XBB-value\",\n",
    "    \"XBB-dividends\",\n",
    "    \"XBB-acb\",\n",
    "    \"XBB-asset_class\",\n",
    "    \"XBB-fund_type\",\n",
    "    \"XIC-nav_per_share\",\n",
    "    \"XIC-unit_traded\",\n",
    "    \"XIC-unit\",\n",
    "    \"XIC-value\",\n",
    "    \"XIC-dividends\",\n",
    "    \"XIC-acb\",\n",
    "    \"XIC-asset_class\",\n",
    "    \"XIC-fund_type\",\n",
    "    \"TD_Bond-nav_per_share\",\n",
    "    \"TD_Bond-unit_traded\",\n",
    "    \"TD_Bond-unit\",\n",
    "    \"TD_Bond-value\",\n",
    "    \"TD_Bond-dividends\",\n",
    "    \"TD_Bond-acb\",\n",
    "    \"TD_Bond-asset_class\",\n",
    "    \"TD_Bond-fund_type\",\n",
    "    \"TD_CDN_Equity-nav_per_share\",\n",
    "    \"TD_CDN_Equity-unit_traded\",\n",
    "    \"TD_CDN_Equity-unit\",\n",
    "    \"TD_CDN_Equity-value\",\n",
    "    \"TD_CDN_Equity-dividends\",\n",
    "    \"TD_CDN_Equity-acb\",\n",
    "    \"TD_CDN_Equity-asset_class\",\n",
    "    \"TD_CDN_Equity-fund_type\",\n",
    "]\n",
    "\n",
    "df = df.reindex(columns=columnsTitles)"
   ]
  },
  {
   "cell_type": "code",
   "execution_count": 47,
   "metadata": {},
   "outputs": [],
   "source": [
    "# pickle the dataframe for use in other analysis\n",
    "with open(\"accounts_template.pickle\", \"wb\") as f:\n",
    "    pickle.dump(df, f)"
   ]
  },
  {
   "cell_type": "code",
   "execution_count": null,
   "metadata": {},
   "outputs": [],
   "source": []
  }
 ],
 "metadata": {
  "kernelspec": {
   "display_name": "Python 3",
   "language": "python",
   "name": "python3"
  },
  "language_info": {
   "codemirror_mode": {
    "name": "ipython",
    "version": 3
   },
   "file_extension": ".py",
   "mimetype": "text/x-python",
   "name": "python",
   "nbconvert_exporter": "python",
   "pygments_lexer": "ipython3",
   "version": "3.7.1"
  }
 },
 "nbformat": 4,
 "nbformat_minor": 2
}
